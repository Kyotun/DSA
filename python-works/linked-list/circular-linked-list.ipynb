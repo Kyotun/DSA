{
 "cells": [
  {
   "cell_type": "code",
   "id": "initial_id",
   "metadata": {
    "collapsed": true,
    "ExecuteTime": {
     "end_time": "2024-04-13T22:40:23.124463Z",
     "start_time": "2024-04-13T22:40:23.121193Z"
    }
   },
   "source": [
    "class Node: \n",
    "    def __init__(self, data): \n",
    "        self.data = data\n",
    "        self.next = None"
   ],
   "outputs": [],
   "execution_count": 2
  },
  {
   "metadata": {
    "ExecuteTime": {
     "end_time": "2024-04-13T22:40:23.560283Z",
     "start_time": "2024-04-13T22:40:23.556081Z"
    }
   },
   "cell_type": "code",
   "source": [
    "class CircularLinkedList: \n",
    "    def __init__(self): \n",
    "        self.head = None\n",
    "        self.last_node = None\n",
    "\n",
    "    def print(self) -> None:\n",
    "        if self.head is None:\n",
    "            print(\"Linked list is empty.\")\n",
    "        else:\n",
    "            string_list = \"Head-->\"\n",
    "            iterator = self.head\n",
    "            while iterator:\n",
    "                string_list += str(iterator.data) + \"-->\"\n",
    "                iterator = iterator.next\n",
    "                if iterator is None:\n",
    "                    string_list += \"Head\"\n",
    "            print(string_list)\n",
    "            \n",
    "    def get_length(self) -> None:\n",
    "        count = 0\n",
    "        iterator = self.head\n",
    "        while iterator:\n",
    "            iterator = iterator.next\n",
    "            count +=1\n",
    "        return count    \n",
    "    \n",
    "    def is_node_exist(self, data) -> bool:\n",
    "        iterator = self.head\n",
    "        if iterator is None:\n",
    "            return False\n",
    "        elif iterator.data == data:\n",
    "            return True\n",
    "        else:\n",
    "            while iterator.next is not None:\n",
    "                iterator = iterator.next\n",
    "                if iterator.data == data:\n",
    "                    return True\n",
    "            return False"
   ],
   "id": "fa89a11bb0b880ec",
   "outputs": [],
   "execution_count": 3
  },
  {
   "metadata": {},
   "cell_type": "code",
   "outputs": [],
   "execution_count": null,
   "source": "",
   "id": "11fa3931dacc4daa"
  }
 ],
 "metadata": {
  "kernelspec": {
   "display_name": "Python 3",
   "language": "python",
   "name": "python3"
  },
  "language_info": {
   "codemirror_mode": {
    "name": "ipython",
    "version": 2
   },
   "file_extension": ".py",
   "mimetype": "text/x-python",
   "name": "python",
   "nbconvert_exporter": "python",
   "pygments_lexer": "ipython2",
   "version": "2.7.6"
  }
 },
 "nbformat": 4,
 "nbformat_minor": 5
}
