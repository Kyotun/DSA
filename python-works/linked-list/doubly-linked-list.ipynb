{
 "cells": [
  {
   "cell_type": "code",
   "id": "initial_id",
   "metadata": {
    "collapsed": true,
    "ExecuteTime": {
     "end_time": "2024-04-13T06:29:02.529657Z",
     "start_time": "2024-04-13T06:29:02.524898Z"
    }
   },
   "source": [
    "class Node:\n",
    "    def __init__(self, data=None, next=None, previous=None) -> None:\n",
    "        self.data = data\n",
    "        self.next = next\n",
    "        self.previous = previous "
   ],
   "outputs": [],
   "execution_count": 2
  },
  {
   "metadata": {
    "ExecuteTime": {
     "end_time": "2024-04-13T06:31:27.708523Z",
     "start_time": "2024-04-13T06:31:27.701887Z"
    }
   },
   "cell_type": "code",
   "source": [
    "class DoublyLinkedList:\n",
    "    def __init__(self, head=None, tail=None) -> None:\n",
    "        self.head = head\n",
    "        self.tail = tail\n",
    "    \n",
    "    def insert_at_beginning(self, data) -> None:\n",
    "        new_head_node = Node(data=data, next=self.head, previous=None)\n",
    "        self.head = new_head_node\n",
    "    \n",
    "    def insert_at_the_end(self, data) -> None:\n",
    "        if self.head is None:\n",
    "            self.head = Node(data=data)\n",
    "        \n",
    "        iterator = self.head\n",
    "        while iterator.next:\n",
    "            iterator = iterator.next\n",
    "            \n",
    "        temp = iterator\n",
    "        iterator.next = Node(data=data, next=None, previous=temp)\n",
    "    \n",
    "    def print(self):\n",
    "        if self.head is None:\n",
    "            print(\"Linked list is empty.\")\n",
    "            return\n",
    "\n",
    "        string_list = \"Head-->\"\n",
    "        iterator = self.head\n",
    "        while iterator:\n",
    "            string_list += str(iterator.data)\n",
    "            iterator = iterator.next\n",
    "            if iterator is None:\n",
    "                string_list += \"-->Null\"\n",
    "            else:\n",
    "                string_list += \"<-->\"\n",
    "            \n",
    "        print(string_list)"
   ],
   "id": "21e7c28d5095af1c",
   "outputs": [],
   "execution_count": 13
  },
  {
   "metadata": {
    "ExecuteTime": {
     "end_time": "2024-04-13T06:31:27.975686Z",
     "start_time": "2024-04-13T06:31:27.972810Z"
    }
   },
   "cell_type": "code",
   "source": [
    "my_list = DoublyLinkedList()\n",
    "my_list.insert_at_beginning(5)\n",
    "my_list.insert_at_beginning(32)\n",
    "my_list.insert_at_the_end(100)\n",
    "my_list.print()"
   ],
   "id": "16753ef430447ade",
   "outputs": [
    {
     "name": "stdout",
     "output_type": "stream",
     "text": [
      "Head-->32<-->5<-->100-->Null\n"
     ]
    }
   ],
   "execution_count": 14
  },
  {
   "metadata": {},
   "cell_type": "code",
   "outputs": [],
   "execution_count": null,
   "source": "",
   "id": "8417cd4a7740533b"
  }
 ],
 "metadata": {
  "kernelspec": {
   "display_name": "Python 3",
   "language": "python",
   "name": "python3"
  },
  "language_info": {
   "codemirror_mode": {
    "name": "ipython",
    "version": 2
   },
   "file_extension": ".py",
   "mimetype": "text/x-python",
   "name": "python",
   "nbconvert_exporter": "python",
   "pygments_lexer": "ipython2",
   "version": "2.7.6"
  }
 },
 "nbformat": 4,
 "nbformat_minor": 5
}
