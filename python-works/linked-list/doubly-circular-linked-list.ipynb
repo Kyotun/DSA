{
 "cells": [
  {
   "cell_type": "code",
   "id": "initial_id",
   "metadata": {
    "collapsed": true,
    "ExecuteTime": {
     "end_time": "2024-04-14T18:54:33.155302Z",
     "start_time": "2024-04-14T18:54:33.151296Z"
    }
   },
   "source": [
    "class Node:\n",
    "    def __init__(self, data=None, next=None, previous=None) -> None:\n",
    "        self.data = data\n",
    "        self.next = next\n",
    "        self.previous = previous "
   ],
   "outputs": [],
   "execution_count": 1
  },
  {
   "metadata": {
    "ExecuteTime": {
     "end_time": "2024-04-14T18:54:40.774778Z",
     "start_time": "2024-04-14T18:54:40.771774Z"
    }
   },
   "cell_type": "code",
   "source": [
    "class DoublyLinkedList: \n",
    "    def __init__(self): \n",
    "        self.head = None\n",
    "        self.start_node = None\n",
    "        self.last_node = None"
   ],
   "id": "fce08e83fcf71a29",
   "outputs": [],
   "execution_count": 2
  }
 ],
 "metadata": {
  "kernelspec": {
   "display_name": "Python 3",
   "language": "python",
   "name": "python3"
  },
  "language_info": {
   "codemirror_mode": {
    "name": "ipython",
    "version": 2
   },
   "file_extension": ".py",
   "mimetype": "text/x-python",
   "name": "python",
   "nbconvert_exporter": "python",
   "pygments_lexer": "ipython2",
   "version": "2.7.6"
  }
 },
 "nbformat": 4,
 "nbformat_minor": 5
}
