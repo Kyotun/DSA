{
 "cells": [
  {
   "cell_type": "code",
   "id": "initial_id",
   "metadata": {
    "collapsed": true,
    "ExecuteTime": {
     "end_time": "2024-04-14T20:37:38.597282Z",
     "start_time": "2024-04-14T20:37:38.592080Z"
    }
   },
   "source": [
    "class Node:\n",
    "    def __init__(self, data=None, next=None, previous=None) -> None:\n",
    "        self.data = data\n",
    "        self.next = next\n",
    "        self.previous = previous "
   ],
   "outputs": [],
   "execution_count": 3
  },
  {
   "metadata": {
    "ExecuteTime": {
     "end_time": "2024-04-14T21:31:00.930644Z",
     "start_time": "2024-04-14T21:31:00.897968Z"
    }
   },
   "cell_type": "code",
   "source": [
    "class DoublyLinkedList: \n",
    "    def __init__(self): \n",
    "        self.head = None\n",
    "        self.start_node = None\n",
    "        self.last_node = None\n",
    "    \n",
    "    def print(self):\n",
    "        if self.head is None:\n",
    "            print(\"Linked list is empty.\")\n",
    "        else:\n",
    "            if self.get_length() == 1:\n",
    "                print(f\"Head-->{self.head.data}-->Head\")\n",
    "            else:\n",
    "                string_list = \"Head-->\"\n",
    "                iterator = self.head\n",
    "                while iterator.next != self.head:\n",
    "                    string_list += str(iterator.data)\n",
    "                    iterator = iterator.next\n",
    "                    if iterator == self.tail:\n",
    "                        string_list += f\"<-->{self.tail.data}-->Head\"\n",
    "                    else:\n",
    "                        string_list += \"<-->\"\n",
    "                print(string_list)\n",
    "    \n",
    "    def get_length(self) -> None:\n",
    "        iterator = self.head\n",
    "        if iterator is None:\n",
    "            return 0\n",
    "        elif iterator is self.tail:\n",
    "            return 1\n",
    "        \n",
    "        count = 0\n",
    "        iterator = self.head\n",
    "        while iterator != self.tail:\n",
    "            iterator = iterator.next\n",
    "            count +=1\n",
    "        return count+1\n",
    "    \n",
    "    def is_node_exist(self, data) -> bool:\n",
    "        iterator = self.head\n",
    "        if iterator is None:\n",
    "            return False\n",
    "        elif iterator.data == data:\n",
    "            return True\n",
    "        else:\n",
    "            while iterator != self.tail:\n",
    "                iterator = iterator.next\n",
    "                if iterator.data == data:\n",
    "                    return True\n",
    "            return False\n",
    "    \n",
    "    def insert_at_start(self, data) -> None:\n",
    "        new_head_node = Node(data=data)\n",
    "        if self.head is None:\n",
    "            self.head = new_head_node\n",
    "            self.tail = new_head_node\n",
    "            self.tail.next = self.head\n",
    "            self.head.next = self.tail\n",
    "            self.head.previous = self.tail\n",
    "        else:\n",
    "            new_head_node.next = self.head\n",
    "            self.head.previous = new_head_node\n",
    "            self.head = new_head_node\n",
    "            self.tail.next = self.head\n",
    "            self.head.previous = self.tail\n",
    "    \n",
    "    def insert_at_end(self, data) -> None:\n",
    "        new_tail_node = Node(data=data)\n",
    "        if self.tail is None:\n",
    "            self.head = new_tail_node\n",
    "            self.tail = new_tail_node\n",
    "            self.head.next = self.tail\n",
    "            self.tail.next = self.head\n",
    "            self.tail.previous = self.head\n",
    "            self.head.previous = self.tail\n",
    "        else:\n",
    "            self.tail.next = new_tail_node\n",
    "            new_tail_node.previous = self.tail\n",
    "            self.tail = new_tail_node\n",
    "            self.tail.next = self.head\n",
    "            self.head.previous = self.tail\n",
    "    \n",
    "    def insert_list_at_start(self, data_list) -> None:\n",
    "        if self.head is None:\n",
    "            for data in data_list:\n",
    "                self.insert_at_end(data=data)\n",
    "        else:\n",
    "            for index in range(len(data_list)-1,-1,-1):\n",
    "                self.insert_at_start(data=data_list[index])\n",
    "    \n",
    "    def insert_list_at_end(self, data_list) -> None:\n",
    "        if self.head is None:\n",
    "            for data in data_list:\n",
    "                self.insert_at_end(data=data)\n",
    "        else:\n",
    "            for data in data_list:\n",
    "                self.insert_at_end(data=data)\n",
    "                \n",
    "    def insert_at(self, index, data) -> None:\n",
    "        if index == 0:\n",
    "            self.insert_at_start(data=data)\n",
    "        elif self.get_length() == index:\n",
    "            self.insert_at_end(data=data)\n",
    "        elif index < 0 or index >= self.get_length()+1:\n",
    "            raise Exception(\"Invalid index.\")\n",
    "        else:\n",
    "            count = 0\n",
    "            iterator = self.head\n",
    "            while count != index-1:\n",
    "                iterator = iterator.next\n",
    "                count += 1\n",
    "            new_node = Node(data=data, next=iterator.next)\n",
    "            iterator.next.previous = new_node\n",
    "            new_node.previous = iterator\n",
    "            iterator.next = new_node\n",
    "    \n",
    "    def remove_at(self, index) -> None:\n",
    "        if index < 0 or index >= self.get_length():\n",
    "            raise Exception(\"Invalid index.\")\n",
    "        elif self.get_length() == 1:\n",
    "            self.head = None\n",
    "            self.tail = None\n",
    "        elif index == 0:\n",
    "            self.head = self.head.next\n",
    "            self.tail.next = self.head\n",
    "            self.head.previous = self.tail\n",
    "        else:\n",
    "            count = 0\n",
    "            iterator = self.head\n",
    "            while count != index-1:\n",
    "                iterator = iterator.next\n",
    "                count += 1\n",
    "            iterator.next = iterator.next.next\n",
    "            iterator.next.previous = iterator\n",
    "            if iterator.next == self.head:\n",
    "                self.tail = iterator\n",
    "    \n",
    "    def remove_by_value(self, data) -> None or Exception:\n",
    "        if self.is_node_exist(data):\n",
    "            if self.get_length() == 1:\n",
    "                self.head = None\n",
    "                self.tail = None\n",
    "            else:\n",
    "                iterator = self.head\n",
    "                if iterator.data == data:\n",
    "                    self.head = iterator.next\n",
    "                    self.tail.next = self.head\n",
    "                    self.head.previous = self.tail\n",
    "                else:\n",
    "                    while iterator.data != data:\n",
    "                        temp = iterator\n",
    "                        iterator = iterator.next\n",
    "                    temp.next = iterator.next\n",
    "                    temp.next.previous = temp\n",
    "        else:\n",
    "            raise Exception(f\"Given value '{data}' is not present in list.\")"
   ],
   "id": "fce08e83fcf71a29",
   "outputs": [],
   "execution_count": 39
  },
  {
   "metadata": {
    "ExecuteTime": {
     "end_time": "2024-04-14T21:33:58.348453Z",
     "start_time": "2024-04-14T21:33:58.344050Z"
    }
   },
   "cell_type": "code",
   "source": [
    "my_list = DoublyLinkedList()\n",
    "my_list.insert_at(0,2)\n",
    "my_list.insert_at(0,1)\n",
    "my_list.insert_at_end(0)\n",
    "my_list.insert_at_start(0)\n",
    "my_list.remove_at(1)\n",
    "my_list.remove_by_value(0)\n",
    "my_list.remove_at(0)\n",
    "my_list.print()"
   ],
   "id": "ed786d8ab93fd348",
   "outputs": [
    {
     "name": "stdout",
     "output_type": "stream",
     "text": [
      "Head-->0-->Head\n"
     ]
    }
   ],
   "execution_count": 51
  },
  {
   "metadata": {
    "ExecuteTime": {
     "end_time": "2024-04-14T21:33:58.818966Z",
     "start_time": "2024-04-14T21:33:58.815313Z"
    }
   },
   "cell_type": "code",
   "source": [
    "list1 = [1,2,3,4,5,6,7,8,9]\n",
    "my_list.insert_list_at_start(list1)\n",
    "my_list.print()"
   ],
   "id": "2e545f2d86f4072a",
   "outputs": [
    {
     "name": "stdout",
     "output_type": "stream",
     "text": [
      "Head-->1<-->2<-->3<-->4<-->5<-->6<-->7<-->8<-->9<-->0-->Head\n"
     ]
    }
   ],
   "execution_count": 52
  },
  {
   "metadata": {
    "ExecuteTime": {
     "end_time": "2024-04-14T21:34:19.050480Z",
     "start_time": "2024-04-14T21:34:19.047845Z"
    }
   },
   "cell_type": "code",
   "source": [
    "list2 = [11,22,33,44,55,66,77,88]\n",
    "my_list.insert_list_at_end(list2)\n",
    "my_list.print()"
   ],
   "id": "2a4fbba47455719d",
   "outputs": [
    {
     "name": "stdout",
     "output_type": "stream",
     "text": [
      "Head-->1<-->2<-->3<-->4<-->5<-->6<-->7<-->8<-->9<-->0<-->11<-->22<-->33<-->44<-->55<-->66<-->77<-->88-->Head\n"
     ]
    }
   ],
   "execution_count": 53
  },
  {
   "metadata": {},
   "cell_type": "code",
   "outputs": [],
   "execution_count": null,
   "source": "",
   "id": "143846bd9e5fe9be"
  }
 ],
 "metadata": {
  "kernelspec": {
   "display_name": "Python 3",
   "language": "python",
   "name": "python3"
  },
  "language_info": {
   "codemirror_mode": {
    "name": "ipython",
    "version": 2
   },
   "file_extension": ".py",
   "mimetype": "text/x-python",
   "name": "python",
   "nbconvert_exporter": "python",
   "pygments_lexer": "ipython2",
   "version": "2.7.6"
  }
 },
 "nbformat": 4,
 "nbformat_minor": 5
}
