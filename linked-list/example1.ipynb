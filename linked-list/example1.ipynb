{
 "cells": [
  {
   "cell_type": "code",
   "execution_count": 102,
   "metadata": {},
   "outputs": [],
   "source": [
    "class Node:\n",
    "    def __init__(self, data=None, next=None) -> None:\n",
    "        self.data = data\n",
    "        self.next = next"
   ]
  },
  {
   "cell_type": "code",
   "execution_count": 118,
   "metadata": {},
   "outputs": [],
   "source": [
    "class LinkedList:\n",
    "    def __init__(self, head=None, tail=None) -> None:\n",
    "        self.head = head\n",
    "        self.tail = tail\n",
    "    \n",
    "    def insert_at_beginning(self, data) -> None:\n",
    "        new_head_node = Node(data=data, next=self.head)\n",
    "        self.head = new_head_node\n",
    "    \n",
    "    def print(self):\n",
    "        if self.head is None:\n",
    "            print(\"Linked list is empty.\")\n",
    "            return\n",
    "\n",
    "        string_list = \"\"\n",
    "        iterator = self.head\n",
    "        while iterator:\n",
    "            string_list += str(iterator.data) + \"-->\"\n",
    "            iterator = iterator.next\n",
    "            if iterator is None:\n",
    "                string_list += \"Null\"\n",
    "            \n",
    "        print(string_list)\n",
    "    \n",
    "    def insert_at_the_end(self, data) -> None:\n",
    "        if self.head is None:\n",
    "            self.head = Node(data=data)\n",
    "        \n",
    "        iterator = self.head\n",
    "        while iterator.next:\n",
    "            iterator = iterator.next\n",
    "        \n",
    "        iterator.next = Node(data=data)\n",
    "    \n",
    "    def insert_values_at_the_beginning(self, data_list) -> None:\n",
    "        if self.head is None:\n",
    "            for data in data_list:\n",
    "                self.insert_at_the_end(data=data)\n",
    "                \n",
    "        for index in range(len(data_list)-1,-1,-1):\n",
    "            self.insert_at_beginning(data=data_list[index])\n",
    "    \n",
    "    def insert_values_at_the_end(self, data_list) -> None:\n",
    "        if self.head is None:\n",
    "            for data in data_list:\n",
    "                self.insert_at_the_end(data=data)\n",
    "        \n",
    "        for data in data_list:\n",
    "            self.insert_at_the_end(data=data)"
   ]
  },
  {
   "cell_type": "code",
   "execution_count": 116,
   "metadata": {},
   "outputs": [],
   "source": [
    "my_list = LinkedList()\n",
    "my_list.insert_at_beginning(5)\n",
    "my_list.insert_at_beginning(32)\n",
    "my_list.insert_at_the_end(100)\n",
    "new_list = [1,2,3,4,5]\n",
    "my_list.insert_values_at_the_beginning(data_list=new_list)\n",
    "my_list.insert_values_at_the_end(data_list=new_list)\n"
   ]
  },
  {
   "cell_type": "code",
   "execution_count": 117,
   "metadata": {},
   "outputs": [
    {
     "name": "stdout",
     "output_type": "stream",
     "text": [
      "1-->2-->3-->4-->5-->32-->5-->100-->Null\n"
     ]
    }
   ],
   "source": [
    "my_list.print()"
   ]
  },
  {
   "cell_type": "code",
   "execution_count": null,
   "metadata": {},
   "outputs": [],
   "source": []
  }
 ],
 "metadata": {
  "kernelspec": {
   "display_name": "Python 3.11.7 64-bit",
   "language": "python",
   "name": "python3"
  },
  "language_info": {
   "codemirror_mode": {
    "name": "ipython",
    "version": 3
   },
   "file_extension": ".py",
   "mimetype": "text/x-python",
   "name": "python",
   "nbconvert_exporter": "python",
   "pygments_lexer": "ipython3",
   "version": "3.11.7"
  },
  "orig_nbformat": 4,
  "vscode": {
   "interpreter": {
    "hash": "b0fa6594d8f4cbf19f97940f81e996739fb7646882a419484c72d19e05852a7e"
   }
  }
 },
 "nbformat": 4,
 "nbformat_minor": 2
}
