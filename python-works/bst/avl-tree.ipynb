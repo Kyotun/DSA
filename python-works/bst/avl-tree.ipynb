{
 "cells": [
  {
   "cell_type": "code",
   "id": "initial_id",
   "metadata": {
    "collapsed": true,
    "ExecuteTime": {
     "end_time": "2024-04-21T20:23:20.352729Z",
     "start_time": "2024-04-21T20:23:20.347193Z"
    }
   },
   "source": [
    "class Node:\n",
    "    def __init__(self, key):\n",
    "        self.key = key\n",
    "        self.value = None\n",
    "        self.left = None\n",
    "        self.right = None\n",
    "        self.parent = None\n",
    "        self.height = 1"
   ],
   "outputs": [],
   "execution_count": 1
  },
  {
   "metadata": {},
   "cell_type": "code",
   "outputs": [],
   "execution_count": null,
   "source": [
    "class AVLTree:\n",
    "    def __init__(self):\n",
    "        self.root = None\n",
    "    \n",
    "    def insert(self, key):\n",
    "        if self.root is None:\n",
    "            return Node(key)\n",
    "        elif key < self.root.key:\n",
    "            "
   ],
   "id": "a70d7ecdb559df9"
  }
 ],
 "metadata": {
  "kernelspec": {
   "display_name": "Python 3",
   "language": "python",
   "name": "python3"
  },
  "language_info": {
   "codemirror_mode": {
    "name": "ipython",
    "version": 2
   },
   "file_extension": ".py",
   "mimetype": "text/x-python",
   "name": "python",
   "nbconvert_exporter": "python",
   "pygments_lexer": "ipython2",
   "version": "2.7.6"
  }
 },
 "nbformat": 4,
 "nbformat_minor": 5
}
