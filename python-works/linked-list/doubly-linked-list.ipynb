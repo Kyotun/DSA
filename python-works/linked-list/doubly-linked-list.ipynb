{
 "cells": [
  {
   "cell_type": "code",
   "id": "initial_id",
   "metadata": {
    "collapsed": true,
    "ExecuteTime": {
     "end_time": "2024-04-13T06:29:02.529657Z",
     "start_time": "2024-04-13T06:29:02.524898Z"
    }
   },
   "source": [
    "class Node:\n",
    "    def __init__(self, data=None, next=None, previous=None) -> None:\n",
    "        self.data = data\n",
    "        self.next = next\n",
    "        self.previous = previous "
   ],
   "outputs": [],
   "execution_count": 2
  },
  {
   "metadata": {
    "ExecuteTime": {
     "end_time": "2024-04-13T06:47:18.523504Z",
     "start_time": "2024-04-13T06:47:18.513734Z"
    }
   },
   "cell_type": "code",
   "source": [
    "class DoublyLinkedList:\n",
    "    def __init__(self, head=None, tail=None) -> None:\n",
    "        self.head = head\n",
    "        self.tail = tail\n",
    "    \n",
    "    def insert_at_start(self, data) -> None:\n",
    "        new_head_node = Node(data=data, next=self.head, previous=None)\n",
    "        self.head = new_head_node\n",
    "    \n",
    "    def insert_at_end(self, data) -> None:\n",
    "        if self.head is None:\n",
    "            self.head = Node(data=data)\n",
    "        \n",
    "        iterator = self.head\n",
    "        while iterator.next:\n",
    "            iterator = iterator.next\n",
    "            \n",
    "        temp = iterator\n",
    "        iterator.next = Node(data=data, next=None, previous=temp)\n",
    "    \n",
    "    def print(self):\n",
    "        if self.head is None:\n",
    "            print(\"Linked list is empty.\")\n",
    "            return\n",
    "\n",
    "        string_list = \"Head-->\"\n",
    "        iterator = self.head\n",
    "        while iterator:\n",
    "            string_list += str(iterator.data)\n",
    "            iterator = iterator.next\n",
    "            if iterator is None:\n",
    "                string_list += \"-->Null\"\n",
    "            else:\n",
    "                string_list += \"<-->\"\n",
    "            \n",
    "        print(string_list)\n",
    "    \n",
    "    def get_length(self) -> None:\n",
    "        count = 0\n",
    "        iterator = self.head\n",
    "        while iterator:\n",
    "            iterator = iterator.next\n",
    "            count +=1\n",
    "        return count\n",
    "    \n",
    "    def remove_at(self, index):\n",
    "        if index < 0 or index >= self.get_length():\n",
    "            raise Exception(\"Invalid index.\")\n",
    "        \n",
    "        if self.get_length() == 1:\n",
    "            self.head = self.head.next\n",
    "            return\n",
    "        \n",
    "        if index == 0:\n",
    "            self.head.next.previous = None\n",
    "            self.head = self.head.next\n",
    "            return\n",
    "        \n",
    "        count = 0\n",
    "        iterator = self.head\n",
    "        while count != index-1:\n",
    "            iterator = iterator.next\n",
    "            count += 1\n",
    "        iterator.next = (iterator.next).next\n",
    "        if iterator.next is not None:\n",
    "            iterator.next.previous = iterator"
   ],
   "id": "21e7c28d5095af1c",
   "outputs": [],
   "execution_count": 40
  },
  {
   "metadata": {
    "ExecuteTime": {
     "end_time": "2024-04-13T06:48:11.456304Z",
     "start_time": "2024-04-13T06:48:11.451654Z"
    }
   },
   "cell_type": "code",
   "source": [
    "my_list = DoublyLinkedList()\n",
    "my_list.insert_at_start(5)\n",
    "my_list.insert_at_start(32)\n",
    "my_list.print()"
   ],
   "id": "16753ef430447ade",
   "outputs": [
    {
     "name": "stdout",
     "output_type": "stream",
     "text": [
      "Head-->32<-->5-->Null\n"
     ]
    }
   ],
   "execution_count": 56
  },
  {
   "metadata": {
    "ExecuteTime": {
     "end_time": "2024-04-13T06:48:11.724899Z",
     "start_time": "2024-04-13T06:48:11.722307Z"
    }
   },
   "cell_type": "code",
   "source": "print(my_list.get_length())",
   "id": "8417cd4a7740533b",
   "outputs": [
    {
     "name": "stdout",
     "output_type": "stream",
     "text": [
      "2\n"
     ]
    }
   ],
   "execution_count": 57
  },
  {
   "metadata": {
    "ExecuteTime": {
     "end_time": "2024-04-13T06:48:13.451124Z",
     "start_time": "2024-04-13T06:48:13.449131Z"
    }
   },
   "cell_type": "code",
   "source": [
    "my_list.remove_at(0)\n",
    "my_list.print()"
   ],
   "id": "56bf7698e0fd8c44",
   "outputs": [
    {
     "name": "stdout",
     "output_type": "stream",
     "text": [
      "Head-->5-->Null\n"
     ]
    }
   ],
   "execution_count": 58
  },
  {
   "metadata": {
    "ExecuteTime": {
     "end_time": "2024-04-13T06:48:14.988871Z",
     "start_time": "2024-04-13T06:48:14.986849Z"
    }
   },
   "cell_type": "code",
   "source": [
    "my_list.remove_at(0)\n",
    "my_list.print()"
   ],
   "id": "43093a49e6c51ddd",
   "outputs": [
    {
     "name": "stdout",
     "output_type": "stream",
     "text": [
      "Linked list is empty.\n"
     ]
    }
   ],
   "execution_count": 59
  },
  {
   "metadata": {
    "ExecuteTime": {
     "end_time": "2024-04-13T06:48:33.388404Z",
     "start_time": "2024-04-13T06:48:33.385709Z"
    }
   },
   "cell_type": "code",
   "source": [
    "my_list.insert_at_start(1)\n",
    "my_list.print()"
   ],
   "id": "cefb1e8d1795c0f8",
   "outputs": [
    {
     "name": "stdout",
     "output_type": "stream",
     "text": [
      "Head-->1-->Null\n"
     ]
    }
   ],
   "execution_count": 60
  },
  {
   "metadata": {},
   "cell_type": "code",
   "outputs": [],
   "execution_count": null,
   "source": "",
   "id": "4592a053e5f3751f"
  }
 ],
 "metadata": {
  "kernelspec": {
   "display_name": "Python 3",
   "language": "python",
   "name": "python3"
  },
  "language_info": {
   "codemirror_mode": {
    "name": "ipython",
    "version": 2
   },
   "file_extension": ".py",
   "mimetype": "text/x-python",
   "name": "python",
   "nbconvert_exporter": "python",
   "pygments_lexer": "ipython2",
   "version": "2.7.6"
  }
 },
 "nbformat": 4,
 "nbformat_minor": 5
}
