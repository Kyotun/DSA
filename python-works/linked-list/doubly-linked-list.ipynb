{
 "cells": [
  {
   "cell_type": "code",
   "id": "initial_id",
   "metadata": {
    "collapsed": true,
    "ExecuteTime": {
     "end_time": "2024-04-15T08:01:52.633555Z",
     "start_time": "2024-04-15T08:01:52.631082Z"
    }
   },
   "source": [
    "class Node:\n",
    "    def __init__(self, data=None, next=None, previous=None) -> None:\n",
    "        self.data = data\n",
    "        self.next = next\n",
    "        self.previous = previous "
   ],
   "outputs": [],
   "execution_count": 208
  },
  {
   "metadata": {
    "ExecuteTime": {
     "end_time": "2024-04-15T08:01:52.648518Z",
     "start_time": "2024-04-15T08:01:52.639981Z"
    }
   },
   "cell_type": "code",
   "source": [
    "class DoublyLinkedList:\n",
    "    def __init__(self, head=None, tail=None) -> None:\n",
    "        self.head = head\n",
    "        self.tail = tail\n",
    "        \n",
    "    def print(self):\n",
    "        if self.head is None:\n",
    "            print(\"Linked list is empty.\")\n",
    "        else:\n",
    "            string_list = \"Head-->\"\n",
    "            iterator = self.head\n",
    "            while iterator:\n",
    "                string_list += str(iterator.data)\n",
    "                iterator = iterator.next\n",
    "                if iterator is None:\n",
    "                    string_list += \"-->Null\"\n",
    "                else:\n",
    "                    string_list += \"<-->\"\n",
    "            print(string_list)\n",
    "    \n",
    "    def get_length(self) -> None:\n",
    "        count = 0\n",
    "        iterator = self.head\n",
    "        while iterator:\n",
    "            iterator = iterator.next\n",
    "            count +=1\n",
    "        return count\n",
    "    \n",
    "    def is_node_exist(self, data) -> bool:\n",
    "        iterator = self.head\n",
    "        if iterator is None:\n",
    "            return False\n",
    "        elif iterator.data == data:\n",
    "            return True\n",
    "        else:\n",
    "            while iterator.next is not None:\n",
    "                iterator = iterator.next\n",
    "                if iterator.data == data:\n",
    "                    return True\n",
    "            return False\n",
    "    \n",
    "    def insert_at_start(self, data) -> None:\n",
    "        new_head_node = Node(data=data)\n",
    "        if self.head is None:\n",
    "            self.head = new_head_node\n",
    "            self.tail = new_head_node\n",
    "        else:\n",
    "            new_head_node.next = self.head\n",
    "            self.head.previous = new_head_node\n",
    "            self.head = new_head_node\n",
    "    \n",
    "    def insert_at_end(self, data) -> None:\n",
    "        new_tail_node = Node(data=data)\n",
    "        if self.tail is None:\n",
    "            self.head = new_tail_node\n",
    "            self.tail = self.head\n",
    "        else:\n",
    "            self.tail.next = new_tail_node\n",
    "            new_tail_node.previous = self.tail\n",
    "            self.tail = new_tail_node\n",
    "    \n",
    "    def insert_list_at_start(self, data_list) -> None:\n",
    "        if self.head is None:\n",
    "            for data in data_list:\n",
    "                self.insert_at_end(data=data)\n",
    "        else:\n",
    "            for index in range(len(data_list)-1,-1,-1):\n",
    "                self.insert_at_start(data=data_list[index])\n",
    "    \n",
    "    def insert_list_at_end(self, data_list) -> None:\n",
    "        if self.head is None:\n",
    "            for data in data_list:\n",
    "                self.insert_at_end(data=data)\n",
    "        else:\n",
    "            for data in data_list:\n",
    "                self.insert_at_end(data=data)\n",
    "        \n",
    "    def insert_at(self, index, data):\n",
    "        if index == 0:\n",
    "            self.insert_at_start(data=data)\n",
    "        elif self.get_length() == index:\n",
    "            self.insert_at_end(data=data)\n",
    "        elif index < 0 or index > self.get_length():\n",
    "            print(f\"Invalid index {index}. Index range is now {0}-{self.get_length()-1}.\")\n",
    "        else:\n",
    "            count = 0\n",
    "            iterator = self.head\n",
    "            while count != index-1:\n",
    "                iterator = iterator.next\n",
    "                count += 1\n",
    "            new_node = Node(data=data)\n",
    "            iterator.next.previous = new_node\n",
    "            new_node.next = iterator.next\n",
    "            iterator.next = new_node\n",
    "            new_node.previous = iterator\n",
    "    \n",
    "    def remove_at(self, index):\n",
    "        if index < 0 or index >= self.get_length():\n",
    "            print(f\"Invalid index {index}. Index range is now {0}-{self.get_length()-1}.\")\n",
    "        elif index == 0:\n",
    "            self.head = self.head.next\n",
    "            if self.head is not None:\n",
    "                self.head.previous = None\n",
    "        elif self.get_length()-1 == index:\n",
    "            self.tail.previous = self.tail\n",
    "            self.tail.next = None\n",
    "        else:\n",
    "            count = 0\n",
    "            iterator = self.head\n",
    "            while count != index-1:\n",
    "                iterator = iterator.next\n",
    "                count += 1\n",
    "            iterator.next = iterator.next.next\n",
    "            iterator.next.previous = iterator\n",
    "    \n",
    "    def remove_by_value(self, data):\n",
    "        if self.is_node_exist(data):\n",
    "            iterator = self.head\n",
    "            if iterator.data == data:\n",
    "                self.head = iterator.next\n",
    "                self.head.previous = None\n",
    "            else:\n",
    "                while iterator.data != data:\n",
    "                    temp = iterator\n",
    "                    iterator = iterator.next\n",
    "                temp.next = iterator.next\n",
    "                if temp.next is not None:\n",
    "                    temp.next.previous = temp\n",
    "                else:\n",
    "                    self.tail = temp\n",
    "        else:\n",
    "            print(f\"Given value '{data}' is not present in list.\")"
   ],
   "id": "21e7c28d5095af1c",
   "outputs": [],
   "execution_count": 209
  },
  {
   "metadata": {
    "ExecuteTime": {
     "end_time": "2024-04-15T08:01:52.651214Z",
     "start_time": "2024-04-15T08:01:52.649444Z"
    }
   },
   "cell_type": "code",
   "source": [
    "my_list = DoublyLinkedList()\n",
    "list1 = [1, 2, 3, 4, 5]\n",
    "list2 = [6, 7, 8, 9, 10]\n",
    "my_list.insert_at_start(5)\n",
    "my_list.print()"
   ],
   "id": "65238b45718d6978",
   "outputs": [
    {
     "name": "stdout",
     "output_type": "stream",
     "text": [
      "Head-->5-->Null\n"
     ]
    }
   ],
   "execution_count": 210
  },
  {
   "metadata": {
    "ExecuteTime": {
     "end_time": "2024-04-15T08:01:52.653582Z",
     "start_time": "2024-04-15T08:01:52.651734Z"
    }
   },
   "cell_type": "code",
   "source": [
    "my_list.insert_at_end(1)\n",
    "my_list.print()"
   ],
   "id": "4f4aff934ad74d5d",
   "outputs": [
    {
     "name": "stdout",
     "output_type": "stream",
     "text": [
      "Head-->5<-->1-->Null\n"
     ]
    }
   ],
   "execution_count": 211
  },
  {
   "metadata": {
    "ExecuteTime": {
     "end_time": "2024-04-15T08:01:52.656336Z",
     "start_time": "2024-04-15T08:01:52.654669Z"
    }
   },
   "cell_type": "code",
   "source": [
    "my_list.remove_by_value(1)\n",
    "my_list.print()"
   ],
   "id": "f64b90c4a9251520",
   "outputs": [
    {
     "name": "stdout",
     "output_type": "stream",
     "text": [
      "Head-->5-->Null\n"
     ]
    }
   ],
   "execution_count": 212
  },
  {
   "metadata": {
    "ExecuteTime": {
     "end_time": "2024-04-15T08:01:52.658478Z",
     "start_time": "2024-04-15T08:01:52.656945Z"
    }
   },
   "cell_type": "code",
   "source": [
    "my_list.remove_by_value(11)\n",
    "my_list.print()"
   ],
   "id": "f533ec1671eb5451",
   "outputs": [
    {
     "name": "stdout",
     "output_type": "stream",
     "text": [
      "Given value '11' is not present in list.\n",
      "Head-->5-->Null\n"
     ]
    }
   ],
   "execution_count": 213
  },
  {
   "metadata": {
    "ExecuteTime": {
     "end_time": "2024-04-15T08:01:52.660807Z",
     "start_time": "2024-04-15T08:01:52.659148Z"
    }
   },
   "cell_type": "code",
   "source": [
    "my_list.remove_at(1)\n",
    "my_list.print()"
   ],
   "id": "4c2b1c1b22d078ea",
   "outputs": [
    {
     "name": "stdout",
     "output_type": "stream",
     "text": [
      "Invalid index 1. Index range is now 0-0.\n",
      "Head-->5-->Null\n"
     ]
    }
   ],
   "execution_count": 214
  },
  {
   "metadata": {
    "ExecuteTime": {
     "end_time": "2024-04-15T08:01:52.662734Z",
     "start_time": "2024-04-15T08:01:52.661275Z"
    }
   },
   "cell_type": "code",
   "source": [
    "my_list.remove_at(0)\n",
    "my_list.print()"
   ],
   "id": "c39389784648555d",
   "outputs": [
    {
     "name": "stdout",
     "output_type": "stream",
     "text": [
      "Linked list is empty.\n"
     ]
    }
   ],
   "execution_count": 215
  },
  {
   "metadata": {
    "ExecuteTime": {
     "end_time": "2024-04-15T08:01:52.693793Z",
     "start_time": "2024-04-15T08:01:52.692010Z"
    }
   },
   "cell_type": "code",
   "source": [
    "my_list.insert_at(0, list1[0])\n",
    "my_list.print()"
   ],
   "id": "52b92244bb847541",
   "outputs": [
    {
     "name": "stdout",
     "output_type": "stream",
     "text": [
      "Head-->1-->Null\n"
     ]
    }
   ],
   "execution_count": 216
  },
  {
   "metadata": {
    "ExecuteTime": {
     "end_time": "2024-04-15T08:01:52.750369Z",
     "start_time": "2024-04-15T08:01:52.748619Z"
    }
   },
   "cell_type": "code",
   "source": [
    "my_list.insert_at(0, list1[1])\n",
    "my_list.print()"
   ],
   "id": "458b121ba4891fee",
   "outputs": [
    {
     "name": "stdout",
     "output_type": "stream",
     "text": [
      "Head-->2<-->1-->Null\n"
     ]
    }
   ],
   "execution_count": 217
  },
  {
   "metadata": {
    "ExecuteTime": {
     "end_time": "2024-04-15T08:01:52.811958Z",
     "start_time": "2024-04-15T08:01:52.810036Z"
    }
   },
   "cell_type": "code",
   "source": [
    "my_list.insert_at(2, list1[0])\n",
    "my_list.print()"
   ],
   "id": "2197a7e69ff4e11a",
   "outputs": [
    {
     "name": "stdout",
     "output_type": "stream",
     "text": [
      "Head-->2<-->1<-->1-->Null\n"
     ]
    }
   ],
   "execution_count": 218
  },
  {
   "metadata": {
    "ExecuteTime": {
     "end_time": "2024-04-15T08:01:52.861474Z",
     "start_time": "2024-04-15T08:01:52.859622Z"
    }
   },
   "cell_type": "code",
   "source": [
    "my_list.insert_list_at_start(list1)\n",
    "my_list.print()"
   ],
   "id": "1913ad466e16e299",
   "outputs": [
    {
     "name": "stdout",
     "output_type": "stream",
     "text": [
      "Head-->1<-->2<-->3<-->4<-->5<-->2<-->1<-->1-->Null\n"
     ]
    }
   ],
   "execution_count": 219
  },
  {
   "metadata": {
    "ExecuteTime": {
     "end_time": "2024-04-15T08:01:52.864074Z",
     "start_time": "2024-04-15T08:01:52.862458Z"
    }
   },
   "cell_type": "code",
   "source": [
    "my_list.insert_list_at_end(list2)\n",
    "my_list.print()"
   ],
   "id": "163cef0f3d4f5872",
   "outputs": [
    {
     "name": "stdout",
     "output_type": "stream",
     "text": [
      "Head-->1<-->2<-->3<-->4<-->5<-->2<-->1<-->1<-->6<-->7<-->8<-->9<-->10-->Null\n"
     ]
    }
   ],
   "execution_count": 220
  },
  {
   "metadata": {
    "ExecuteTime": {
     "end_time": "2024-04-15T08:01:52.866048Z",
     "start_time": "2024-04-15T08:01:52.864885Z"
    }
   },
   "cell_type": "code",
   "source": "",
   "id": "a86de352fce61b46",
   "outputs": [],
   "execution_count": 220
  }
 ],
 "metadata": {
  "kernelspec": {
   "display_name": "Python 3",
   "language": "python",
   "name": "python3"
  },
  "language_info": {
   "codemirror_mode": {
    "name": "ipython",
    "version": 2
   },
   "file_extension": ".py",
   "mimetype": "text/x-python",
   "name": "python",
   "nbconvert_exporter": "python",
   "pygments_lexer": "ipython2",
   "version": "2.7.6"
  }
 },
 "nbformat": 4,
 "nbformat_minor": 5
}
