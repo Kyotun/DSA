{
 "cells": [
  {
   "cell_type": "code",
   "id": "initial_id",
   "metadata": {
    "collapsed": true,
    "ExecuteTime": {
     "end_time": "2024-04-13T06:29:02.529657Z",
     "start_time": "2024-04-13T06:29:02.524898Z"
    }
   },
   "source": [
    "class Node:\n",
    "    def __init__(self, data=None, next=None, previous=None) -> None:\n",
    "        self.data = data\n",
    "        self.next = next\n",
    "        self.previous = previous "
   ],
   "outputs": [],
   "execution_count": 2
  },
  {
   "metadata": {
    "ExecuteTime": {
     "end_time": "2024-04-13T07:07:40.866121Z",
     "start_time": "2024-04-13T07:07:40.859501Z"
    }
   },
   "cell_type": "code",
   "source": [
    "class DoublyLinkedList:\n",
    "    def __init__(self, head=None, tail=None) -> None:\n",
    "        self.head = head\n",
    "        self.tail = tail\n",
    "    \n",
    "    def insert_at_start(self, data) -> None:\n",
    "        new_head_node = Node(data=data, next=self.head, previous=None)\n",
    "        self.head = new_head_node\n",
    "        if self.head.next is not None:\n",
    "                self.head.next.previous = self.head\n",
    "    \n",
    "    def insert_at_end(self, data) -> None:\n",
    "        if self.head is None:\n",
    "            self.head = Node(data=data)\n",
    "        \n",
    "        iterator = self.head\n",
    "        while iterator.next:\n",
    "            iterator = iterator.next\n",
    "            \n",
    "        temp = iterator\n",
    "        iterator.next = Node(data=data, next=None, previous=temp)\n",
    "    \n",
    "    def print(self):\n",
    "        if self.head is None:\n",
    "            print(\"Linked list is empty.\")\n",
    "            return\n",
    "\n",
    "        string_list = \"Head-->\"\n",
    "        iterator = self.head\n",
    "        while iterator:\n",
    "            string_list += str(iterator.data)\n",
    "            iterator = iterator.next\n",
    "            if iterator is None:\n",
    "                string_list += \"-->Null\"\n",
    "            else:\n",
    "                string_list += \"<-->\"\n",
    "            \n",
    "        print(string_list)\n",
    "    \n",
    "    def get_length(self) -> None:\n",
    "        count = 0\n",
    "        iterator = self.head\n",
    "        while iterator:\n",
    "            iterator = iterator.next\n",
    "            count +=1\n",
    "        return count\n",
    "    \n",
    "    def remove_at(self, index):\n",
    "        if index < 0 or index >= self.get_length():\n",
    "            raise Exception(\"Invalid index.\")\n",
    "        \n",
    "        if self.get_length() == 1:\n",
    "            self.head = self.head.next\n",
    "            return\n",
    "        \n",
    "        if index == 0:\n",
    "            self.head.next.previous = None\n",
    "            self.head = self.head.next\n",
    "            return\n",
    "        \n",
    "        count = 0\n",
    "        iterator = self.head\n",
    "        while count != index-1:\n",
    "            iterator = iterator.next\n",
    "            count += 1\n",
    "        iterator.next = (iterator.next).next\n",
    "        if iterator.next is not None:\n",
    "            iterator.next.previous = iterator\n",
    "    \n",
    "    def remove_by_value(self, data):\n",
    "        iterator = self.head\n",
    "        if iterator.data == data:\n",
    "            self.head = iterator.next\n",
    "            return\n",
    "        \n",
    "        while iterator.data != data:\n",
    "            temp = iterator\n",
    "            iterator = iterator.next\n",
    "        \n",
    "        temp.next = iterator.next\n",
    "        if iterator.next is not None:\n",
    "            iterator.next.previous = temp"
   ],
   "id": "21e7c28d5095af1c",
   "outputs": [],
   "execution_count": 77
  },
  {
   "metadata": {
    "ExecuteTime": {
     "end_time": "2024-04-13T07:08:17.654437Z",
     "start_time": "2024-04-13T07:08:17.652144Z"
    }
   },
   "cell_type": "code",
   "source": [
    "my_list = DoublyLinkedList()\n",
    "my_list.insert_at_start(1)\n",
    "my_list.print()"
   ],
   "id": "65238b45718d6978",
   "outputs": [
    {
     "name": "stdout",
     "output_type": "stream",
     "text": [
      "Head-->1-->Null\n"
     ]
    }
   ],
   "execution_count": 78
  },
  {
   "metadata": {
    "ExecuteTime": {
     "end_time": "2024-04-13T07:08:52.570136Z",
     "start_time": "2024-04-13T07:08:52.557564Z"
    }
   },
   "cell_type": "code",
   "source": "my_list.insert_at(0, 5)",
   "id": "629abc0bf4fa3869",
   "outputs": [
    {
     "ename": "Exception",
     "evalue": "Invalid index.",
     "output_type": "error",
     "traceback": [
      "\u001B[0;31m---------------------------------------------------------------------------\u001B[0m",
      "\u001B[0;31mException\u001B[0m                                 Traceback (most recent call last)",
      "Cell \u001B[0;32mIn[81], line 1\u001B[0m\n\u001B[0;32m----> 1\u001B[0m my_list\u001B[38;5;241m.\u001B[39minsert_at(\u001B[38;5;241m1\u001B[39m, \u001B[38;5;241m5\u001B[39m)\n",
      "Cell \u001B[0;32mIn[77], line 84\u001B[0m, in \u001B[0;36mDoublyLinkedList.insert_at\u001B[0;34m(self, index, data)\u001B[0m\n\u001B[1;32m     82\u001B[0m \u001B[38;5;28;01mdef\u001B[39;00m \u001B[38;5;21minsert_at\u001B[39m(\u001B[38;5;28mself\u001B[39m, index, data):\n\u001B[1;32m     83\u001B[0m     \u001B[38;5;28;01mif\u001B[39;00m index \u001B[38;5;241m<\u001B[39m \u001B[38;5;241m0\u001B[39m \u001B[38;5;129;01mor\u001B[39;00m index \u001B[38;5;241m>\u001B[39m\u001B[38;5;241m=\u001B[39m \u001B[38;5;28mself\u001B[39m\u001B[38;5;241m.\u001B[39mget_length():\n\u001B[0;32m---> 84\u001B[0m         \u001B[38;5;28;01mraise\u001B[39;00m \u001B[38;5;167;01mException\u001B[39;00m(\u001B[38;5;124m\"\u001B[39m\u001B[38;5;124mInvalid index.\u001B[39m\u001B[38;5;124m\"\u001B[39m)\n\u001B[1;32m     86\u001B[0m     \u001B[38;5;28;01mif\u001B[39;00m index \u001B[38;5;241m==\u001B[39m \u001B[38;5;241m0\u001B[39m:\n\u001B[1;32m     87\u001B[0m         node \u001B[38;5;241m=\u001B[39m Node(data\u001B[38;5;241m=\u001B[39mdata)\n",
      "\u001B[0;31mException\u001B[0m: Invalid index."
     ]
    }
   ],
   "execution_count": 81
  },
  {
   "metadata": {},
   "cell_type": "code",
   "outputs": [],
   "execution_count": null,
   "source": "",
   "id": "929ce8597a203c98"
  }
 ],
 "metadata": {
  "kernelspec": {
   "display_name": "Python 3",
   "language": "python",
   "name": "python3"
  },
  "language_info": {
   "codemirror_mode": {
    "name": "ipython",
    "version": 2
   },
   "file_extension": ".py",
   "mimetype": "text/x-python",
   "name": "python",
   "nbconvert_exporter": "python",
   "pygments_lexer": "ipython2",
   "version": "2.7.6"
  }
 },
 "nbformat": 4,
 "nbformat_minor": 5
}
