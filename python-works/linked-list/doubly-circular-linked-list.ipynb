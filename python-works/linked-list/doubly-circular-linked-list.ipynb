{
 "cells": [
  {
   "cell_type": "code",
   "id": "initial_id",
   "metadata": {
    "collapsed": true,
    "ExecuteTime": {
     "end_time": "2024-04-14T18:54:33.155302Z",
     "start_time": "2024-04-14T18:54:33.151296Z"
    }
   },
   "source": [
    "class Node:\n",
    "    def __init__(self, data=None, next=None, previous=None) -> None:\n",
    "        self.data = data\n",
    "        self.next = next\n",
    "        self.previous = previous "
   ],
   "outputs": [],
   "execution_count": 1
  },
  {
   "metadata": {
    "ExecuteTime": {
     "end_time": "2024-04-14T18:54:40.774778Z",
     "start_time": "2024-04-14T18:54:40.771774Z"
    }
   },
   "cell_type": "code",
   "source": [
    "class DoublyLinkedList: \n",
    "    def __init__(self): \n",
    "        self.head = None\n",
    "        self.start_node = None\n",
    "        self.last_node = None\n",
    "    \n",
    "    def print(self):\n",
    "        if self.head is None:\n",
    "            print(\"Linked list is empty.\")\n",
    "        else:\n",
    "            if self.head == self.tail:\n",
    "                print(f\"Head-->{self.head.data}-->Head\")\n",
    "            else:\n",
    "                string_list = \"Head-->\"\n",
    "                iterator = self.head\n",
    "                while iterator.next != self.head:\n",
    "                    string_list += str(iterator.data)\n",
    "                    iterator = iterator.next\n",
    "                    if iterator == self.tail:\n",
    "                        string_list += \"-->Head\"\n",
    "                    else:\n",
    "                        string_list += \"<-->\"\n",
    "                print(string_list)\n",
    "    \n",
    "    def get_length(self) -> None:\n",
    "        iterator = self.head\n",
    "        if iterator is None:\n",
    "            return 0\n",
    "        elif iterator is self.tail:\n",
    "            return 1\n",
    "        \n",
    "        count = 0\n",
    "        iterator = self.head\n",
    "        while iterator != self.tail:\n",
    "            iterator = iterator.next\n",
    "            count +=1\n",
    "        return count+1\n",
    "    \n",
    "    def is_node_exist(self, data) -> bool:\n",
    "        iterator = self.head\n",
    "        if iterator is None:\n",
    "            return False\n",
    "        elif iterator.data == data:\n",
    "            return True\n",
    "        else:\n",
    "            while iterator != self.tail:\n",
    "                iterator = iterator.next\n",
    "                if iterator.data == data:\n",
    "                    return True\n",
    "            return False\n",
    "    \n",
    "    def insert_at_start(self, data) -> None:\n",
    "        new_head_node = Node(data=data)\n",
    "        if self.head is None:\n",
    "            self.head = new_head_node\n",
    "            self.tail = self.head\n",
    "            self.tail.next = self.head\n",
    "            self.head.previous = self.tail\n",
    "        else:\n",
    "            new_head_node.next = self.head\n",
    "            self.head = new_head_node\n",
    "            self.tail.next = self.head\n",
    "            self.head.previous = self.tail"
   ],
   "id": "fce08e83fcf71a29",
   "outputs": [],
   "execution_count": 2
  }
 ],
 "metadata": {
  "kernelspec": {
   "display_name": "Python 3",
   "language": "python",
   "name": "python3"
  },
  "language_info": {
   "codemirror_mode": {
    "name": "ipython",
    "version": 2
   },
   "file_extension": ".py",
   "mimetype": "text/x-python",
   "name": "python",
   "nbconvert_exporter": "python",
   "pygments_lexer": "ipython2",
   "version": "2.7.6"
  }
 },
 "nbformat": 4,
 "nbformat_minor": 5
}
