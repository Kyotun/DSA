{
 "cells": [
  {
   "cell_type": "code",
   "metadata": {
    "ExecuteTime": {
     "end_time": "2024-04-13T21:46:24.473931Z",
     "start_time": "2024-04-13T21:46:24.472013Z"
    }
   },
   "source": [
    "class Node:\n",
    "    def __init__(self, data=None, next=None) -> None:\n",
    "        self.data = data\n",
    "        self.next = next"
   ],
   "outputs": [],
   "execution_count": 2
  },
  {
   "cell_type": "code",
   "metadata": {
    "ExecuteTime": {
     "end_time": "2024-04-13T21:50:45.279967Z",
     "start_time": "2024-04-13T21:50:45.273215Z"
    }
   },
   "source": [
    "class LinkedList:\n",
    "    def __init__(self, head=None, tail=None) -> None:\n",
    "        self.head = head\n",
    "        \n",
    "    def print(self) -> None:\n",
    "        if self.head is None:\n",
    "            print(\"Linked list is empty.\")\n",
    "            return\n",
    "\n",
    "        string_list = \"\"\n",
    "        iterator = self.head\n",
    "        while iterator:\n",
    "            string_list += str(iterator.data) + \"-->\"\n",
    "            iterator = iterator.next\n",
    "            if iterator is None:\n",
    "                string_list += \"Null\"\n",
    "        print(string_list)\n",
    "        \n",
    "    def get_length(self) -> None:\n",
    "        count = 0\n",
    "        iterator = self.head\n",
    "        while iterator:\n",
    "            iterator = iterator.next\n",
    "            count +=1\n",
    "        return count\n",
    "    \n",
    "    def is_node_exist(self, data) -> bool:\n",
    "        iterator = self.head\n",
    "        if iterator is None:\n",
    "            return False\n",
    "        elif iterator.data == data:\n",
    "            return True\n",
    "        else:\n",
    "            while iterator.next is not None:\n",
    "                iterator = iterator.next\n",
    "                if iterator.data == data:\n",
    "                    return True\n",
    "            return False\n",
    "        \n",
    "    def insert_at_start(self, data) -> None:\n",
    "        new_head_node = Node(data=data, next=self.head)\n",
    "        self.head = new_head_node\n",
    "    \n",
    "    def insert_at_end(self, data) -> None:\n",
    "        if self.head is None:\n",
    "            self.head = Node(data=data)\n",
    "        else:\n",
    "            iterator = self.head\n",
    "            while iterator.next:\n",
    "                iterator = iterator.next\n",
    "            iterator.next = Node(data=data)\n",
    "    \n",
    "    def insert_list_at_start(self, data_list) -> None:\n",
    "        if self.head is None:\n",
    "            for data in data_list:\n",
    "                self.insert_at_end(data=data)\n",
    "        else:\n",
    "            for index in range(len(data_list)-1,-1,-1):\n",
    "                self.insert_at_start(data=data_list[index])\n",
    "    \n",
    "    def insert_list_at_end(self, data_list) -> None:\n",
    "        if self.head is None:\n",
    "            for data in data_list:\n",
    "                self.insert_at_end(data=data)\n",
    "        else:\n",
    "            for data in data_list:\n",
    "                self.insert_at_end(data=data)\n",
    "    \n",
    "    def insert_at(self, index, data) -> None:\n",
    "        if index == 0:\n",
    "            self.insert_at_start(data=data)\n",
    "        elif self.get_length() == index:\n",
    "            self.insert_at_end(data=data)\n",
    "        elif index < 0 or index >= self.get_length()-1:\n",
    "            raise Exception(\"Invalid index.\")\n",
    "        else:\n",
    "            count = 0\n",
    "            iterator = self.head\n",
    "            while count != index-1:\n",
    "                iterator = iterator.next\n",
    "                count += 1\n",
    "            new_node = Node(data=data, next=iterator.next)\n",
    "            iterator.next = new_node\n",
    "    \n",
    "    def remove_at(self, index) -> None:\n",
    "        if index < 0 or index >= self.get_length():\n",
    "            raise Exception(\"Invalid index.\")\n",
    "        elif index == 0:\n",
    "            self.head = self.head.next\n",
    "        else:\n",
    "            count = 0\n",
    "            iterator = self.head\n",
    "            while count != index-1:\n",
    "                iterator = iterator.next\n",
    "                count += 1\n",
    "            iterator.next = (iterator.next).next\n",
    "    \n",
    "    def remove_by_value(self, data) -> None or Exception:\n",
    "        if self.is_node_exist(data):\n",
    "            iterator = self.head\n",
    "            if iterator.data == data:\n",
    "                self.head = iterator.next\n",
    "            else:\n",
    "                while iterator.data != data:\n",
    "                    temp = iterator\n",
    "                    iterator = iterator.next\n",
    "                temp.next = iterator.next\n",
    "        else:\n",
    "            raise Exception(f\"Given value '{data}' is not present in list.\")\n",
    "        "
   ],
   "outputs": [],
   "execution_count": 10
  },
  {
   "metadata": {
    "ExecuteTime": {
     "end_time": "2024-04-13T21:50:46.629948Z",
     "start_time": "2024-04-13T21:50:46.627547Z"
    }
   },
   "cell_type": "code",
   "source": [
    "my_list = LinkedList()\n",
    "my_list.insert_at(0,1)\n",
    "my_list.print()"
   ],
   "outputs": [
    {
     "name": "stdout",
     "output_type": "stream",
     "text": [
      "1-->Null\n"
     ]
    }
   ],
   "execution_count": 11
  },
  {
   "metadata": {
    "ExecuteTime": {
     "end_time": "2024-04-13T21:50:46.982714Z",
     "start_time": "2024-04-13T21:50:46.964524Z"
    }
   },
   "cell_type": "code",
   "source": [
    "my_list.remove_by_value(16)\n",
    "my_list.print()"
   ],
   "outputs": [
    {
     "ename": "Exception",
     "evalue": "Given value '16' is not present in list.",
     "output_type": "error",
     "traceback": [
      "\u001B[0;31m---------------------------------------------------------------------------\u001B[0m",
      "\u001B[0;31mException\u001B[0m                                 Traceback (most recent call last)",
      "Cell \u001B[0;32mIn[12], line 1\u001B[0m\n\u001B[0;32m----> 1\u001B[0m my_list\u001B[38;5;241m.\u001B[39mremove_by_value(\u001B[38;5;241m16\u001B[39m)\n\u001B[1;32m      2\u001B[0m my_list\u001B[38;5;241m.\u001B[39mprint()\n",
      "Cell \u001B[0;32mIn[10], line 109\u001B[0m, in \u001B[0;36mLinkedList.remove_by_value\u001B[0;34m(self, data)\u001B[0m\n\u001B[1;32m    107\u001B[0m         temp\u001B[38;5;241m.\u001B[39mnext \u001B[38;5;241m=\u001B[39m iterator\u001B[38;5;241m.\u001B[39mnext\n\u001B[1;32m    108\u001B[0m \u001B[38;5;28;01melse\u001B[39;00m:\n\u001B[0;32m--> 109\u001B[0m     \u001B[38;5;28;01mraise\u001B[39;00m \u001B[38;5;167;01mException\u001B[39;00m(\u001B[38;5;124mf\u001B[39m\u001B[38;5;124m\"\u001B[39m\u001B[38;5;124mGiven value \u001B[39m\u001B[38;5;124m'\u001B[39m\u001B[38;5;132;01m{\u001B[39;00mdata\u001B[38;5;132;01m}\u001B[39;00m\u001B[38;5;124m'\u001B[39m\u001B[38;5;124m is not present in list.\u001B[39m\u001B[38;5;124m\"\u001B[39m)\n",
      "\u001B[0;31mException\u001B[0m: Given value '16' is not present in list."
     ]
    }
   ],
   "execution_count": 12
  },
  {
   "metadata": {},
   "cell_type": "code",
   "outputs": [],
   "execution_count": null,
   "source": ""
  }
 ],
 "metadata": {
  "kernelspec": {
   "display_name": "Python 3.11.7 64-bit",
   "language": "python",
   "name": "python3"
  },
  "language_info": {
   "codemirror_mode": {
    "name": "ipython",
    "version": 3
   },
   "file_extension": ".py",
   "mimetype": "text/x-python",
   "name": "python",
   "nbconvert_exporter": "python",
   "pygments_lexer": "ipython3",
   "version": "3.11.7"
  },
  "orig_nbformat": 4,
  "vscode": {
   "interpreter": {
    "hash": "b0fa6594d8f4cbf19f97940f81e996739fb7646882a419484c72d19e05852a7e"
   }
  }
 },
 "nbformat": 4,
 "nbformat_minor": 2
}
