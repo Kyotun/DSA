{
 "cells": [
  {
   "cell_type": "code",
   "metadata": {
    "ExecuteTime": {
     "end_time": "2024-04-13T06:52:27.156082Z",
     "start_time": "2024-04-13T06:52:27.152164Z"
    }
   },
   "source": [
    "class Node:\n",
    "    def __init__(self, data=None, next=None) -> None:\n",
    "        self.data = data\n",
    "        self.next = next"
   ],
   "outputs": [],
   "execution_count": 1
  },
  {
   "cell_type": "code",
   "metadata": {
    "ExecuteTime": {
     "end_time": "2024-04-13T06:58:33.184259Z",
     "start_time": "2024-04-13T06:58:33.169381Z"
    }
   },
   "source": [
    "class LinkedList:\n",
    "    def __init__(self, head=None, tail=None) -> None:\n",
    "        self.head = head\n",
    "        self.tail = tail\n",
    "    \n",
    "    def insert_at_start(self, data) -> None:\n",
    "        new_head_node = Node(data=data, next=self.head)\n",
    "        self.head = new_head_node\n",
    "    \n",
    "    def print(self):\n",
    "        if self.head is None:\n",
    "            print(\"Linked list is empty.\")\n",
    "            return\n",
    "\n",
    "        string_list = \"\"\n",
    "        iterator = self.head\n",
    "        while iterator:\n",
    "            string_list += str(iterator.data) + \"-->\"\n",
    "            iterator = iterator.next\n",
    "            if iterator is None:\n",
    "                string_list += \"Null\"\n",
    "            \n",
    "        print(string_list)\n",
    "    \n",
    "    def insert_at_end(self, data) -> None:\n",
    "        if self.head is None:\n",
    "            self.head = Node(data=data)\n",
    "        \n",
    "        iterator = self.head\n",
    "        while iterator.next:\n",
    "            iterator = iterator.next\n",
    "        \n",
    "        iterator.next = Node(data=data)\n",
    "    \n",
    "    def insert_values_at_start(self, data_list) -> None:\n",
    "        if self.head is None:\n",
    "            for data in data_list:\n",
    "                self.insert_at_end(data=data)\n",
    "        else:\n",
    "            for index in range(len(data_list)-1,-1,-1):\n",
    "                self.insert_at_start(data=data_list[index])\n",
    "    \n",
    "    def insert_values_at_end(self, data_list) -> None:\n",
    "        if self.head is None:\n",
    "            for data in data_list:\n",
    "                self.insert_at_end(data=data)\n",
    "        \n",
    "        for data in data_list:\n",
    "            self.insert_at_end(data=data)\n",
    "    \n",
    "    def get_length(self) -> None:\n",
    "        count = 0\n",
    "        iterator = self.head\n",
    "        while iterator:\n",
    "            iterator = iterator.next\n",
    "            count +=1\n",
    "        return count\n",
    "    \n",
    "    def remove_at(self, index):\n",
    "        if index < 0 or index >= self.get_length():\n",
    "            raise Exception(\"Invalid index.\")\n",
    "        \n",
    "        if index == 0:\n",
    "            self.head = self.head.next\n",
    "            return\n",
    "        \n",
    "        count = 0\n",
    "        iterator = self.head\n",
    "        while count != index-1:\n",
    "            iterator = iterator.next\n",
    "            count += 1\n",
    "        iterator.next = (iterator.next).next\n",
    "    \n",
    "    def insert_at(self, index, data):\n",
    "        if index < 0 or index >= self.get_length():\n",
    "            raise Exception(\"Invalid index.\")\n",
    "        \n",
    "        if index == 0:\n",
    "            node = Node(data=data)\n",
    "            node.next = self.head\n",
    "            self.head = node\n",
    "        \n",
    "        count = 0\n",
    "        iterator = self.head\n",
    "        while count != index-1:\n",
    "            iterator = iterator.next\n",
    "            count += 1\n",
    "        new_node = Node(data=data, next=iterator.next)\n",
    "        iterator.next = new_node\n",
    "    \n",
    "    def remove_by_value(self, data):\n",
    "        iterator = self.head\n",
    "        if iterator.data == data:\n",
    "            self.head = iterator.next\n",
    "            return\n",
    "        \n",
    "        while iterator.data != data:\n",
    "            temp = iterator\n",
    "            iterator = iterator.next\n",
    "        \n",
    "        temp.next = iterator.next\n",
    "        "
   ],
   "outputs": [],
   "execution_count": 13
  },
  {
   "cell_type": "code",
   "metadata": {
    "ExecuteTime": {
     "end_time": "2024-04-13T06:58:33.510982Z",
     "start_time": "2024-04-13T06:58:33.506889Z"
    }
   },
   "source": [
    "my_list = LinkedList()\n",
    "my_list.insert_at_start(5)\n",
    "my_list.insert_at_start(32)\n",
    "my_list.insert_at_end(100)\n",
    "new_list = [1,2,3,4,5]\n",
    "my_list.insert_values_at_start(data_list=new_list)\n",
    "my_list.insert_values_at_end(data_list=new_list)\n",
    "my_list.print()"
   ],
   "outputs": [
    {
     "name": "stdout",
     "output_type": "stream",
     "text": [
      "1-->2-->3-->4-->5-->32-->5-->100-->1-->2-->3-->4-->5-->Null\n"
     ]
    }
   ],
   "execution_count": 14
  },
  {
   "cell_type": "code",
   "metadata": {
    "ExecuteTime": {
     "end_time": "2024-04-13T06:58:34.618823Z",
     "start_time": "2024-04-13T06:58:34.617001Z"
    }
   },
   "source": [
    "my_list.remove_at(5)\n",
    "my_list.print()"
   ],
   "outputs": [
    {
     "name": "stdout",
     "output_type": "stream",
     "text": [
      "1-->2-->3-->4-->5-->5-->100-->1-->2-->3-->4-->5-->Null\n"
     ]
    }
   ],
   "execution_count": 15
  },
  {
   "cell_type": "code",
   "metadata": {
    "ExecuteTime": {
     "end_time": "2024-04-13T06:58:35.460193Z",
     "start_time": "2024-04-13T06:58:35.457003Z"
    }
   },
   "source": [
    "print(my_list.get_length())"
   ],
   "outputs": [
    {
     "name": "stdout",
     "output_type": "stream",
     "text": [
      "12\n"
     ]
    }
   ],
   "execution_count": 16
  },
  {
   "cell_type": "code",
   "metadata": {
    "ExecuteTime": {
     "end_time": "2024-04-13T06:58:36.345434Z",
     "start_time": "2024-04-13T06:58:36.342485Z"
    }
   },
   "source": [
    "my_list.insert_at(index=5, data=5555)\n",
    "my_list.print()"
   ],
   "outputs": [
    {
     "name": "stdout",
     "output_type": "stream",
     "text": [
      "1-->2-->3-->4-->5-->5555-->5-->100-->1-->2-->3-->4-->5-->Null\n"
     ]
    }
   ],
   "execution_count": 17
  },
  {
   "cell_type": "code",
   "metadata": {
    "ExecuteTime": {
     "end_time": "2024-04-13T06:58:37.788264Z",
     "start_time": "2024-04-13T06:58:37.786277Z"
    }
   },
   "source": [
    "print(my_list.get_length())"
   ],
   "outputs": [
    {
     "name": "stdout",
     "output_type": "stream",
     "text": [
      "13\n"
     ]
    }
   ],
   "execution_count": 18
  },
  {
   "cell_type": "code",
   "metadata": {
    "ExecuteTime": {
     "end_time": "2024-04-13T06:58:39.270927Z",
     "start_time": "2024-04-13T06:58:39.267797Z"
    }
   },
   "source": [
    "my_list.remove_by_value(3)\n",
    "my_list.print()"
   ],
   "outputs": [
    {
     "name": "stdout",
     "output_type": "stream",
     "text": [
      "1-->2-->4-->5-->5555-->5-->100-->1-->2-->3-->4-->5-->Null\n"
     ]
    }
   ],
   "execution_count": 19
  }
 ],
 "metadata": {
  "kernelspec": {
   "display_name": "Python 3.11.7 64-bit",
   "language": "python",
   "name": "python3"
  },
  "language_info": {
   "codemirror_mode": {
    "name": "ipython",
    "version": 3
   },
   "file_extension": ".py",
   "mimetype": "text/x-python",
   "name": "python",
   "nbconvert_exporter": "python",
   "pygments_lexer": "ipython3",
   "version": "3.11.7"
  },
  "orig_nbformat": 4,
  "vscode": {
   "interpreter": {
    "hash": "b0fa6594d8f4cbf19f97940f81e996739fb7646882a419484c72d19e05852a7e"
   }
  }
 },
 "nbformat": 4,
 "nbformat_minor": 2
}
