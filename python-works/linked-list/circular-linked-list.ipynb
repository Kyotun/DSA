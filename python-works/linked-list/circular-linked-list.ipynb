{
 "cells": [
  {
   "cell_type": "code",
   "id": "initial_id",
   "metadata": {
    "collapsed": true,
    "ExecuteTime": {
     "end_time": "2024-04-14T07:35:39.846347Z",
     "start_time": "2024-04-14T07:35:39.843944Z"
    }
   },
   "source": [
    "class Node:\n",
    "    def __init__(self, data=None, next=None) -> None:\n",
    "        self.data = data\n",
    "        self.next = next"
   ],
   "outputs": [],
   "execution_count": 135
  },
  {
   "metadata": {
    "ExecuteTime": {
     "end_time": "2024-04-14T07:35:39.857214Z",
     "start_time": "2024-04-14T07:35:39.848995Z"
    }
   },
   "cell_type": "code",
   "source": [
    "class CircularLinkedList: \n",
    "    def __init__(self, head=None, tail=None) -> None: \n",
    "        self.head = None\n",
    "        self.tail = None\n",
    "\n",
    "    def print(self) -> None:\n",
    "        if self.head is None:\n",
    "            print(\"Linked list is empty.\")\n",
    "        else:\n",
    "            if self.head == self.tail:\n",
    "                print(f\"Head-->{self.head.data}-->Head\")\n",
    "            else:\n",
    "                string_list = \"Head-->\"\n",
    "                iterator = self.head\n",
    "                while iterator.next != self.head:\n",
    "                    string_list += str(iterator.data) + \"-->\"\n",
    "                    iterator = iterator.next\n",
    "                    if iterator.next == self.head:\n",
    "                        string_list += str(iterator.data) + \"-->Head\"\n",
    "                print(string_list)\n",
    "            \n",
    "    def get_length(self) -> None:\n",
    "        iterator = self.head\n",
    "        if iterator is None:\n",
    "            return 0\n",
    "        elif iterator is self.tail:\n",
    "            return 1\n",
    "        \n",
    "        count = 0\n",
    "        iterator = self.head\n",
    "        while iterator != self.tail:\n",
    "            iterator = iterator.next\n",
    "            count +=1\n",
    "        return count+1\n",
    "    \n",
    "    def is_node_exist(self, data) -> bool:\n",
    "        iterator = self.head\n",
    "        if iterator is None:\n",
    "            return False\n",
    "        elif iterator.data == data:\n",
    "            return True\n",
    "        else:\n",
    "            while iterator.next != self.head:\n",
    "                iterator = iterator.next\n",
    "                if iterator.data == data:\n",
    "                    return True\n",
    "            return False\n",
    "    \n",
    "    def insert_at_start(self, data) -> None:\n",
    "        new_head_node = Node(data=data)\n",
    "        if self.head is None:\n",
    "            self.head = new_head_node\n",
    "            self.tail = self.head\n",
    "            self.tail.next = self.head\n",
    "        else:\n",
    "            new_head_node.next = self.head\n",
    "            self.head = new_head_node\n",
    "            self.tail.next = self.head\n",
    "    \n",
    "    def insert_at_end(self, data) -> None:\n",
    "        new_tail_node = Node(data=data)\n",
    "        if self.tail is None:\n",
    "            self.head = new_tail_node\n",
    "            self.tail = self.head\n",
    "            self.tail.next = self.head\n",
    "        else:\n",
    "            self.tail.next = new_tail_node\n",
    "            self.tail = self.tail.next\n",
    "            self.tail.next = self.head\n",
    "    \n",
    "    def insert_list_at_start(self, data_list) -> None:\n",
    "        if self.head is None:\n",
    "            for data in data_list:\n",
    "                self.insert_at_end(data=data)\n",
    "        else:\n",
    "            for index in range(len(data_list)-1,-1,-1):\n",
    "                self.insert_at_start(data=data_list[index])\n",
    "    \n",
    "    def insert_list_at_end(self, data_list) -> None:\n",
    "        if self.head is None:\n",
    "            for data in data_list:\n",
    "                self.insert_at_end(data=data)\n",
    "        else:\n",
    "            for data in data_list:\n",
    "                self.insert_at_end(data=data)\n",
    "    \n",
    "    def insert_at(self, index, data) -> None:\n",
    "        if index == 0:\n",
    "            self.insert_at_start(data=data)\n",
    "        elif self.get_length() == index:\n",
    "            self.insert_at_end(data=data)\n",
    "        elif index < 0 or index >= self.get_length()+1:\n",
    "            raise Exception(\"Invalid index.\")\n",
    "        else:\n",
    "            count = 0\n",
    "            iterator = self.head\n",
    "            while count != index-1:\n",
    "                iterator = iterator.next\n",
    "                count += 1\n",
    "            new_node = Node(data=data, next=iterator.next)\n",
    "            iterator.next = new_node\n",
    "    \n",
    "    def remove_at(self, index) -> None:\n",
    "        if index < 0 or index >= self.get_length():\n",
    "            raise Exception(\"Invalid index.\")\n",
    "        elif index == 0:\n",
    "            self.head = self.head.next\n",
    "            self.tail.next = self.head\n",
    "        else:\n",
    "            count = 0\n",
    "            iterator = self.head\n",
    "            while count != index-1:\n",
    "                iterator = iterator.next\n",
    "                count += 1\n",
    "            iterator.next = iterator.next.next\n",
    "            if iterator.next == self.head:\n",
    "                self.tail = iterator\n",
    "    \n",
    "    def remove_by_value(self, data) -> None or Exception:\n",
    "        if self.is_node_exist(data):\n",
    "            iterator = self.head\n",
    "            if iterator.data == data:\n",
    "                self.head = iterator.next\n",
    "            else:\n",
    "                while iterator.data != data:\n",
    "                    temp = iterator\n",
    "                    iterator = iterator.next\n",
    "                temp.next = iterator.next\n",
    "        else:\n",
    "            raise Exception(f\"Given value '{data}' is not present in list.\")"
   ],
   "id": "fa89a11bb0b880ec",
   "outputs": [],
   "execution_count": 136
  },
  {
   "metadata": {
    "ExecuteTime": {
     "end_time": "2024-04-14T07:35:39.860172Z",
     "start_time": "2024-04-14T07:35:39.858186Z"
    }
   },
   "cell_type": "code",
   "source": [
    "my_list = CircularLinkedList()\n",
    "my_list.insert_at_end(5)\n",
    "my_list.insert_at_start(10)\n",
    "my_list.insert_at(2,1)\n",
    "my_list.insert_at(2,12)\n",
    "my_list.remove_at(0)\n",
    "my_list.print()"
   ],
   "id": "853ded1390e0be21",
   "outputs": [
    {
     "name": "stdout",
     "output_type": "stream",
     "text": [
      "Head-->5-->12-->1-->Head\n"
     ]
    }
   ],
   "execution_count": 137
  },
  {
   "metadata": {
    "ExecuteTime": {
     "end_time": "2024-04-14T07:35:39.862426Z",
     "start_time": "2024-04-14T07:35:39.860710Z"
    }
   },
   "cell_type": "code",
   "source": [
    "my_list.insert_list_at_start([1,2,3,4,5,6,7,8,9])\n",
    "my_list.print()"
   ],
   "id": "d648032294f51ad6",
   "outputs": [
    {
     "name": "stdout",
     "output_type": "stream",
     "text": [
      "Head-->1-->2-->3-->4-->5-->6-->7-->8-->9-->5-->12-->1-->Head\n"
     ]
    }
   ],
   "execution_count": 138
  },
  {
   "metadata": {
    "ExecuteTime": {
     "end_time": "2024-04-14T07:35:39.865306Z",
     "start_time": "2024-04-14T07:35:39.863485Z"
    }
   },
   "cell_type": "code",
   "source": [
    "my_list.insert_list_at_end([22,23,24,25,26,27,28,29,30,31])\n",
    "my_list.print()"
   ],
   "id": "3e6bc3fcedc6b309",
   "outputs": [
    {
     "name": "stdout",
     "output_type": "stream",
     "text": [
      "Head-->1-->2-->3-->4-->5-->6-->7-->8-->9-->5-->12-->1-->22-->23-->24-->25-->26-->27-->28-->29-->30-->31-->Head\n"
     ]
    }
   ],
   "execution_count": 139
  }
 ],
 "metadata": {
  "kernelspec": {
   "display_name": "Python 3",
   "language": "python",
   "name": "python3"
  },
  "language_info": {
   "codemirror_mode": {
    "name": "ipython",
    "version": 2
   },
   "file_extension": ".py",
   "mimetype": "text/x-python",
   "name": "python",
   "nbconvert_exporter": "python",
   "pygments_lexer": "ipython2",
   "version": "2.7.6"
  }
 },
 "nbformat": 4,
 "nbformat_minor": 5
}
