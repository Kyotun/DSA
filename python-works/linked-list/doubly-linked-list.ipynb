{
 "cells": [
  {
   "cell_type": "code",
   "id": "initial_id",
   "metadata": {
    "collapsed": true,
    "ExecuteTime": {
     "end_time": "2024-04-15T07:16:34.186205Z",
     "start_time": "2024-04-15T07:16:34.183681Z"
    }
   },
   "source": [
    "class Node:\n",
    "    def __init__(self, data=None, next=None, previous=None) -> None:\n",
    "        self.data = data\n",
    "        self.next = next\n",
    "        self.previous = previous "
   ],
   "outputs": [],
   "execution_count": 36
  },
  {
   "metadata": {
    "ExecuteTime": {
     "end_time": "2024-04-15T07:16:34.459643Z",
     "start_time": "2024-04-15T07:16:34.449362Z"
    }
   },
   "cell_type": "code",
   "source": [
    "class DoublyLinkedList:\n",
    "    def __init__(self, head=None, tail=None) -> None:\n",
    "        self.head = head\n",
    "        self.tail = tail\n",
    "        \n",
    "    def print(self):\n",
    "        if self.head is None:\n",
    "            print(\"Linked list is empty.\")\n",
    "        else:\n",
    "            string_list = \"Head-->\"\n",
    "            iterator = self.head\n",
    "            while iterator:\n",
    "                string_list += str(iterator.data)\n",
    "                iterator = iterator.next\n",
    "                if iterator is None:\n",
    "                    string_list += \"-->Null\"\n",
    "                else:\n",
    "                    string_list += \"<-->\"\n",
    "            print(string_list)\n",
    "    \n",
    "    def get_length(self) -> None:\n",
    "        count = 0\n",
    "        iterator = self.head\n",
    "        while iterator:\n",
    "            iterator = iterator.next\n",
    "            count +=1\n",
    "        return count\n",
    "    \n",
    "    def is_node_exist(self, data) -> bool:\n",
    "        iterator = self.head\n",
    "        if iterator is None:\n",
    "            return False\n",
    "        elif iterator.data == data:\n",
    "            return True\n",
    "        else:\n",
    "            while iterator.next is not None:\n",
    "                iterator = iterator.next\n",
    "                if iterator.data == data:\n",
    "                    return True\n",
    "            return False\n",
    "    \n",
    "    def insert_at_start(self, data) -> None:\n",
    "        new_head_node = Node(data=data)\n",
    "        if self.head is None:\n",
    "            self.head = new_head_node\n",
    "            self.tail = new_head_node\n",
    "        else:\n",
    "            new_head_node.next = self.head\n",
    "            self.head.previous = new_head_node\n",
    "            self.head = new_head_node\n",
    "    \n",
    "    def insert_at_end(self, data) -> None:\n",
    "        new_tail_node = Node(data=data)\n",
    "        if self.tail is None:\n",
    "            self.head = new_tail_node\n",
    "            self.tail = self.head\n",
    "        else:\n",
    "            self.tail.next = new_tail_node\n",
    "            new_tail_node.previous = self.tail\n",
    "            self.tail = new_tail_node\n",
    "    \n",
    "    def insert_list_at_start(self, data_list) -> None:\n",
    "        if self.head is None:\n",
    "            for data in data_list:\n",
    "                print(data)\n",
    "                self.insert_at_end(data=data)\n",
    "        else:\n",
    "            for index in range(len(data_list)-1,-1,-1):\n",
    "                self.insert_at_start(data=data_list[index])\n",
    "    \n",
    "    def insert_list_at_end(self, data_list) -> None:\n",
    "        if self.head is None:\n",
    "            for data in data_list:\n",
    "                self.insert_at_end(data=data)\n",
    "        else:\n",
    "            for data in data_list:\n",
    "                self.insert_at_end(data=data)\n",
    "        \n",
    "    def insert_at(self, index, data):\n",
    "        if index == 0:\n",
    "            self.insert_at_start(data=data)\n",
    "        elif self.get_length() == index:\n",
    "            self.insert_at_end(data=data)\n",
    "        elif index < 0 or index >= self.get_length()-1:\n",
    "            print(f\"Invalid index {index}. Index range is now {0}-{self.get_length()-1}.\")\n",
    "        else:\n",
    "            count = 0\n",
    "            iterator = self.head\n",
    "            while count != index-1:\n",
    "                iterator = iterator.next\n",
    "                count += 1\n",
    "            new_node = Node(data=data, next=iterator.next, previous=iterator)\n",
    "            iterator.next = new_node\n",
    "            if new_node.next is not None:\n",
    "                new_node.next.previous = new_node\n",
    "    \n",
    "    def remove_at(self, index):\n",
    "        if index < 0 or index >= self.get_length():\n",
    "            raise Exception(\"Invalid index.\")\n",
    "        elif self.get_length() == 1:\n",
    "            self.head = self.head.next\n",
    "        elif index == 0:\n",
    "            self.head.next.previous = None\n",
    "            self.head = self.head.next\n",
    "            return\n",
    "        else:\n",
    "            count = 0\n",
    "            iterator = self.head\n",
    "            while count != index-1:\n",
    "                iterator = iterator.next\n",
    "                count += 1\n",
    "            iterator.next = (iterator.next).next\n",
    "            if iterator.next is not None:\n",
    "                iterator.next.previous = iterator\n",
    "    \n",
    "    def remove_by_value(self, data):\n",
    "        if self.is_node_exist(data):\n",
    "            iterator = self.head\n",
    "            if iterator.data == data:\n",
    "                self.head = iterator.next\n",
    "                self.head.previous = None\n",
    "            else:\n",
    "                while iterator.data != data:\n",
    "                    temp = iterator\n",
    "                    iterator = iterator.next\n",
    "                temp.next = iterator.next\n",
    "                if iterator.next is not None:\n",
    "                    iterator.next.previous = temp\n",
    "        else:\n",
    "            print(f\"Given value '{data}' is not present in list.\")"
   ],
   "id": "21e7c28d5095af1c",
   "outputs": [],
   "execution_count": 37
  },
  {
   "metadata": {
    "ExecuteTime": {
     "end_time": "2024-04-15T07:16:34.706395Z",
     "start_time": "2024-04-15T07:16:34.703811Z"
    }
   },
   "cell_type": "code",
   "source": [
    "my_list = DoublyLinkedList()\n",
    "list1 = [1, 2, 3, 4, 5]\n",
    "list2 = [6, 7, 8, 9, 10]\n",
    "my_list.insert_at_start(5)\n",
    "my_list.print()"
   ],
   "id": "65238b45718d6978",
   "outputs": [
    {
     "name": "stdout",
     "output_type": "stream",
     "text": [
      "Head-->5-->Null\n"
     ]
    }
   ],
   "execution_count": 38
  },
  {
   "metadata": {
    "ExecuteTime": {
     "end_time": "2024-04-15T07:16:35.281151Z",
     "start_time": "2024-04-15T07:16:35.278618Z"
    }
   },
   "cell_type": "code",
   "source": [
    "my_list.insert_at_end(1)\n",
    "my_list.print()"
   ],
   "id": "4f4aff934ad74d5d",
   "outputs": [
    {
     "name": "stdout",
     "output_type": "stream",
     "text": [
      "Head-->5<-->1-->Null\n"
     ]
    }
   ],
   "execution_count": 39
  },
  {
   "metadata": {
    "ExecuteTime": {
     "end_time": "2024-04-15T07:16:35.660791Z",
     "start_time": "2024-04-15T07:16:35.659195Z"
    }
   },
   "cell_type": "code",
   "source": [
    "my_list.remove_by_value(1)\n",
    "my_list.print()"
   ],
   "id": "f64b90c4a9251520",
   "outputs": [
    {
     "name": "stdout",
     "output_type": "stream",
     "text": [
      "Head-->5-->Null\n"
     ]
    }
   ],
   "execution_count": 40
  },
  {
   "metadata": {
    "ExecuteTime": {
     "end_time": "2024-04-15T07:16:36.095174Z",
     "start_time": "2024-04-15T07:16:36.081767Z"
    }
   },
   "cell_type": "code",
   "source": [
    "my_list.remove_by_value(11)\n",
    "my_list.print()"
   ],
   "id": "f533ec1671eb5451",
   "outputs": [
    {
     "name": "stdout",
     "output_type": "stream",
     "text": [
      "Given value '11' is not present in list.\n"
     ]
    },
    {
     "ename": "AttributeError",
     "evalue": "'NoneType' object has no attribute 'data'",
     "output_type": "error",
     "traceback": [
      "\u001B[0;31m---------------------------------------------------------------------------\u001B[0m",
      "\u001B[0;31mAttributeError\u001B[0m                            Traceback (most recent call last)",
      "Cell \u001B[0;32mIn[41], line 1\u001B[0m\n\u001B[0;32m----> 1\u001B[0m my_list\u001B[38;5;241m.\u001B[39mremove_by_value(\u001B[38;5;241m11\u001B[39m)\n\u001B[1;32m      2\u001B[0m my_list\u001B[38;5;241m.\u001B[39mprint()\n",
      "Cell \u001B[0;32mIn[37], line 123\u001B[0m, in \u001B[0;36mDoublyLinkedList.remove_by_value\u001B[0;34m(self, data)\u001B[0m\n\u001B[1;32m    121\u001B[0m     \u001B[38;5;28mself\u001B[39m\u001B[38;5;241m.\u001B[39mhead \u001B[38;5;241m=\u001B[39m iterator\u001B[38;5;241m.\u001B[39mnext\n\u001B[1;32m    122\u001B[0m \u001B[38;5;28;01melse\u001B[39;00m:\n\u001B[0;32m--> 123\u001B[0m     \u001B[38;5;28;01mwhile\u001B[39;00m iterator\u001B[38;5;241m.\u001B[39mdata \u001B[38;5;241m!=\u001B[39m data:\n\u001B[1;32m    124\u001B[0m         temp \u001B[38;5;241m=\u001B[39m iterator\n\u001B[1;32m    125\u001B[0m         iterator \u001B[38;5;241m=\u001B[39m iterator\u001B[38;5;241m.\u001B[39mnext\n",
      "\u001B[0;31mAttributeError\u001B[0m: 'NoneType' object has no attribute 'data'"
     ]
    }
   ],
   "execution_count": 41
  },
  {
   "metadata": {
    "ExecuteTime": {
     "end_time": "2024-04-15T07:16:38.250285Z",
     "start_time": "2024-04-15T07:16:38.239766Z"
    }
   },
   "cell_type": "code",
   "source": [
    "my_list.remove_at(1)\n",
    "my_list.print()"
   ],
   "id": "4c2b1c1b22d078ea",
   "outputs": [
    {
     "ename": "Exception",
     "evalue": "Invalid index.",
     "output_type": "error",
     "traceback": [
      "\u001B[0;31m---------------------------------------------------------------------------\u001B[0m",
      "\u001B[0;31mException\u001B[0m                                 Traceback (most recent call last)",
      "Cell \u001B[0;32mIn[42], line 1\u001B[0m\n\u001B[0;32m----> 1\u001B[0m my_list\u001B[38;5;241m.\u001B[39mremove_at(\u001B[38;5;241m1\u001B[39m)\n\u001B[1;32m      2\u001B[0m my_list\u001B[38;5;241m.\u001B[39mprint()\n",
      "Cell \u001B[0;32mIn[37], line 99\u001B[0m, in \u001B[0;36mDoublyLinkedList.remove_at\u001B[0;34m(self, index)\u001B[0m\n\u001B[1;32m     97\u001B[0m \u001B[38;5;28;01mdef\u001B[39;00m \u001B[38;5;21mremove_at\u001B[39m(\u001B[38;5;28mself\u001B[39m, index):\n\u001B[1;32m     98\u001B[0m     \u001B[38;5;28;01mif\u001B[39;00m index \u001B[38;5;241m<\u001B[39m \u001B[38;5;241m0\u001B[39m \u001B[38;5;129;01mor\u001B[39;00m index \u001B[38;5;241m>\u001B[39m\u001B[38;5;241m=\u001B[39m \u001B[38;5;28mself\u001B[39m\u001B[38;5;241m.\u001B[39mget_length():\n\u001B[0;32m---> 99\u001B[0m         \u001B[38;5;28;01mraise\u001B[39;00m \u001B[38;5;167;01mException\u001B[39;00m(\u001B[38;5;124m\"\u001B[39m\u001B[38;5;124mInvalid index.\u001B[39m\u001B[38;5;124m\"\u001B[39m)\n\u001B[1;32m    100\u001B[0m     \u001B[38;5;28;01melif\u001B[39;00m \u001B[38;5;28mself\u001B[39m\u001B[38;5;241m.\u001B[39mget_length() \u001B[38;5;241m==\u001B[39m \u001B[38;5;241m1\u001B[39m:\n\u001B[1;32m    101\u001B[0m         \u001B[38;5;28mself\u001B[39m\u001B[38;5;241m.\u001B[39mhead \u001B[38;5;241m=\u001B[39m \u001B[38;5;28mself\u001B[39m\u001B[38;5;241m.\u001B[39mhead\u001B[38;5;241m.\u001B[39mnext\n",
      "\u001B[0;31mException\u001B[0m: Invalid index."
     ]
    }
   ],
   "execution_count": 42
  },
  {
   "metadata": {
    "ExecuteTime": {
     "end_time": "2024-04-15T07:16:40.522951Z",
     "start_time": "2024-04-15T07:16:40.520915Z"
    }
   },
   "cell_type": "code",
   "source": [
    "my_list.remove_at(0)\n",
    "my_list.print()"
   ],
   "id": "c39389784648555d",
   "outputs": [
    {
     "name": "stdout",
     "output_type": "stream",
     "text": [
      "Linked list is empty.\n"
     ]
    }
   ],
   "execution_count": 43
  },
  {
   "metadata": {
    "ExecuteTime": {
     "end_time": "2024-04-15T07:16:43.256980Z",
     "start_time": "2024-04-15T07:16:43.254714Z"
    }
   },
   "cell_type": "code",
   "source": [
    "my_list.insert_at(0, list1[0])\n",
    "my_list.print()"
   ],
   "id": "52b92244bb847541",
   "outputs": [
    {
     "name": "stdout",
     "output_type": "stream",
     "text": [
      "Head-->1-->Null\n"
     ]
    }
   ],
   "execution_count": 44
  },
  {
   "metadata": {
    "ExecuteTime": {
     "end_time": "2024-04-15T07:16:45.024920Z",
     "start_time": "2024-04-15T07:16:45.022429Z"
    }
   },
   "cell_type": "code",
   "source": [
    "my_list.insert_at(0, list1[1])\n",
    "my_list.print()"
   ],
   "id": "458b121ba4891fee",
   "outputs": [
    {
     "name": "stdout",
     "output_type": "stream",
     "text": [
      "Head-->2<-->1-->Null\n"
     ]
    }
   ],
   "execution_count": 45
  },
  {
   "metadata": {
    "ExecuteTime": {
     "end_time": "2024-04-15T07:16:47.601047Z",
     "start_time": "2024-04-15T07:16:47.599053Z"
    }
   },
   "cell_type": "code",
   "source": [
    "my_list.insert_at(2, list1[0])\n",
    "my_list.print()"
   ],
   "id": "2197a7e69ff4e11a",
   "outputs": [
    {
     "name": "stdout",
     "output_type": "stream",
     "text": [
      "Head-->2<-->1<-->1-->Null\n"
     ]
    }
   ],
   "execution_count": 46
  },
  {
   "metadata": {},
   "cell_type": "code",
   "outputs": [],
   "execution_count": null,
   "source": "",
   "id": "1913ad466e16e299"
  }
 ],
 "metadata": {
  "kernelspec": {
   "display_name": "Python 3",
   "language": "python",
   "name": "python3"
  },
  "language_info": {
   "codemirror_mode": {
    "name": "ipython",
    "version": 2
   },
   "file_extension": ".py",
   "mimetype": "text/x-python",
   "name": "python",
   "nbconvert_exporter": "python",
   "pygments_lexer": "ipython2",
   "version": "2.7.6"
  }
 },
 "nbformat": 4,
 "nbformat_minor": 5
}
