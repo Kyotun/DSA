{
 "cells": [
  {
   "cell_type": "code",
   "id": "initial_id",
   "metadata": {
    "collapsed": true,
    "ExecuteTime": {
     "end_time": "2024-04-13T21:54:23.316020Z",
     "start_time": "2024-04-13T21:54:23.311675Z"
    }
   },
   "source": [
    "class Node:\n",
    "    def __init__(self, data=None, next=None, previous=None) -> None:\n",
    "        self.data = data\n",
    "        self.next = next\n",
    "        self.previous = previous "
   ],
   "outputs": [],
   "execution_count": 1
  },
  {
   "metadata": {
    "ExecuteTime": {
     "end_time": "2024-04-13T21:54:23.324080Z",
     "start_time": "2024-04-13T21:54:23.317133Z"
    }
   },
   "cell_type": "code",
   "source": [
    "class DoublyLinkedList:\n",
    "    def __init__(self, head=None, tail=None) -> None:\n",
    "        self.head = head\n",
    "        self.tail = tail\n",
    "        \n",
    "    def print(self):\n",
    "        if self.head is None:\n",
    "            print(\"Linked list is empty.\")\n",
    "            return\n",
    "        \n",
    "        string_list = \"Head-->\"\n",
    "        iterator = self.head\n",
    "        while iterator:\n",
    "            string_list += str(iterator.data)\n",
    "            iterator = iterator.next\n",
    "            if iterator is None:\n",
    "                string_list += \"-->Null\"\n",
    "            else:\n",
    "                string_list += \"<-->\"\n",
    "        print(string_list)\n",
    "    \n",
    "    def get_length(self) -> None:\n",
    "        count = 0\n",
    "        iterator = self.head\n",
    "        while iterator:\n",
    "            iterator = iterator.next\n",
    "            count +=1\n",
    "        return count\n",
    "    \n",
    "    def is_node_exist(self, data) -> bool:\n",
    "        iterator = self.head\n",
    "        if iterator is None:\n",
    "            return False\n",
    "        elif iterator.data == data:\n",
    "            return True\n",
    "        else:\n",
    "            while iterator.next is not None:\n",
    "                iterator = iterator.next\n",
    "                if iterator.data == data:\n",
    "                    return True\n",
    "            return False\n",
    "    \n",
    "    def insert_at_start(self, data) -> None:\n",
    "        new_head_node = Node(data=data)\n",
    "        if self.head is None:\n",
    "            self.head = new_head_node\n",
    "            self.tail = new_head_node\n",
    "        else:\n",
    "            new_head_node.next = self.head\n",
    "            self.head.previous = new_head_node\n",
    "            self.head = new_head_node\n",
    "    \n",
    "    def insert_list_at_start(self, data_list) -> None:\n",
    "        if self.head is None:\n",
    "            for data in data_list:\n",
    "                print(data)\n",
    "                self.insert_at_end(data=data)\n",
    "        else:\n",
    "            for index in range(len(data_list)-1,-1,-1):\n",
    "                self.insert_at_start(data=data_list[index])\n",
    "    \n",
    "    def insert_list_at_end(self, data_list) -> None:\n",
    "        if self.head is None:\n",
    "            for data in data_list:\n",
    "                self.insert_at_end(data=data)\n",
    "        else:\n",
    "            for data in data_list:\n",
    "                self.insert_at_end(data=data)\n",
    "    \n",
    "    def insert_at_end(self, data) -> None:\n",
    "        if self.tail is None:\n",
    "            self.head = Node(data=data, next=self.head, previous=None)\n",
    "            self.tail = self.head\n",
    "        else:\n",
    "            self.tail.next = Node(data=data, next=self.tail, previous=None)\n",
    "            self.tail.next.previous = self.tail\n",
    "            self.tail = self.tail.next\n",
    "        \n",
    "    def insert_at(self, index, data):\n",
    "        if index == 0:\n",
    "            self.insert_at_start(data=data)\n",
    "        elif self.get_length() == index:\n",
    "            self.insert_at_end(data=data)\n",
    "        elif index < 0 or index >= self.get_length()-1:\n",
    "            raise Exception(\"Invalid index.\")\n",
    "        else:\n",
    "            count = 0\n",
    "            iterator = self.head\n",
    "            while count != index-1:\n",
    "                iterator = iterator.next\n",
    "                count += 1\n",
    "            new_node = Node(data=data, next=iterator.next, previous=iterator)\n",
    "            iterator.next = new_node\n",
    "            if new_node.next is not None:\n",
    "                new_node.next.previous = new_node\n",
    "    \n",
    "    def remove_at(self, index):\n",
    "        if index < 0 or index >= self.get_length():\n",
    "            raise Exception(\"Invalid index.\")\n",
    "        elif self.get_length() == 1:\n",
    "            self.head = self.head.next\n",
    "        elif index == 0:\n",
    "            self.head.next.previous = None\n",
    "            self.head = self.head.next\n",
    "            return\n",
    "        else:\n",
    "            count = 0\n",
    "            iterator = self.head\n",
    "            while count != index-1:\n",
    "                iterator = iterator.next\n",
    "                count += 1\n",
    "            iterator.next = (iterator.next).next\n",
    "            if iterator.next is not None:\n",
    "                iterator.next.previous = iterator\n",
    "    \n",
    "    def remove_by_value(self, data):\n",
    "        iterator = self.head\n",
    "        if iterator is None:\n",
    "                    raise Exception(f\"Given value '{data}' is not present in list.\")\n",
    "        if iterator.data == data:\n",
    "            self.head = iterator.next\n",
    "        else:\n",
    "            while iterator.data != data:\n",
    "                temp = iterator\n",
    "                iterator = iterator.next\n",
    "                if iterator is None:\n",
    "                    raise Exception(f\"Given value '{data}' is not present in list.\")\n",
    "            temp.next = iterator.next\n",
    "            if iterator.next is not None:\n",
    "                iterator.next.previous = temp"
   ],
   "id": "21e7c28d5095af1c",
   "outputs": [],
   "execution_count": 2
  },
  {
   "metadata": {
    "ExecuteTime": {
     "end_time": "2024-04-13T22:31:08.631461Z",
     "start_time": "2024-04-13T22:31:08.628283Z"
    }
   },
   "cell_type": "code",
   "source": [
    "my_list = DoublyLinkedList()\n",
    "list1 = [1, 2]\n",
    "my_list.insert_list_at_start(list1)\n",
    "my_list.print()"
   ],
   "id": "65238b45718d6978",
   "outputs": [
    {
     "name": "stdout",
     "output_type": "stream",
     "text": [
      "1\n",
      "2\n",
      "Head-->1<-->2-->Null\n"
     ]
    }
   ],
   "execution_count": 13
  },
  {
   "metadata": {
    "ExecuteTime": {
     "end_time": "2024-04-13T22:31:09.243744Z",
     "start_time": "2024-04-13T22:31:09.239986Z"
    }
   },
   "cell_type": "code",
   "source": [
    "my_list.insert_at_end(1)\n",
    "my_list.print()"
   ],
   "id": "4f4aff934ad74d5d",
   "outputs": [
    {
     "name": "stdout",
     "output_type": "stream",
     "text": [
      "Head-->1<-->2<-->1-->Null\n"
     ]
    }
   ],
   "execution_count": 14
  },
  {
   "metadata": {
    "ExecuteTime": {
     "end_time": "2024-04-13T22:31:21.436192Z",
     "start_time": "2024-04-13T22:31:21.434154Z"
    }
   },
   "cell_type": "code",
   "source": [
    "my_list.remove_by_value(1)\n",
    "my_list.print()"
   ],
   "id": "f64b90c4a9251520",
   "outputs": [
    {
     "name": "stdout",
     "output_type": "stream",
     "text": [
      "Head-->2<-->1-->Null\n"
     ]
    }
   ],
   "execution_count": 15
  },
  {
   "metadata": {
    "ExecuteTime": {
     "end_time": "2024-04-13T22:31:21.774207Z",
     "start_time": "2024-04-13T22:31:21.772256Z"
    }
   },
   "cell_type": "code",
   "source": [
    "my_list.remove_by_value(1)\n",
    "my_list.print()"
   ],
   "id": "4c2b1c1b22d078ea",
   "outputs": [
    {
     "name": "stdout",
     "output_type": "stream",
     "text": [
      "Head-->2-->Null\n"
     ]
    }
   ],
   "execution_count": 16
  },
  {
   "metadata": {
    "ExecuteTime": {
     "end_time": "2024-04-13T22:31:23.612362Z",
     "start_time": "2024-04-13T22:31:23.600361Z"
    }
   },
   "cell_type": "code",
   "source": [
    "my_list.remove_by_value(3)\n",
    "my_list.print()"
   ],
   "id": "52b92244bb847541",
   "outputs": [
    {
     "ename": "Exception",
     "evalue": "Given value '3' is not present in list.",
     "output_type": "error",
     "traceback": [
      "\u001B[0;31m---------------------------------------------------------------------------\u001B[0m",
      "\u001B[0;31mException\u001B[0m                                 Traceback (most recent call last)",
      "Cell \u001B[0;32mIn[17], line 1\u001B[0m\n\u001B[0;32m----> 1\u001B[0m my_list\u001B[38;5;241m.\u001B[39mremove_by_value(\u001B[38;5;241m3\u001B[39m)\n\u001B[1;32m      2\u001B[0m my_list\u001B[38;5;241m.\u001B[39mprint()\n",
      "Cell \u001B[0;32mIn[2], line 109\u001B[0m, in \u001B[0;36mDoublyLinkedList.remove_by_value\u001B[0;34m(self, data)\u001B[0m\n\u001B[1;32m    107\u001B[0m     iterator \u001B[38;5;241m=\u001B[39m iterator\u001B[38;5;241m.\u001B[39mnext\n\u001B[1;32m    108\u001B[0m     \u001B[38;5;28;01mif\u001B[39;00m iterator \u001B[38;5;129;01mis\u001B[39;00m \u001B[38;5;28;01mNone\u001B[39;00m:\n\u001B[0;32m--> 109\u001B[0m         \u001B[38;5;28;01mraise\u001B[39;00m \u001B[38;5;167;01mException\u001B[39;00m(\u001B[38;5;124mf\u001B[39m\u001B[38;5;124m\"\u001B[39m\u001B[38;5;124mGiven value \u001B[39m\u001B[38;5;124m'\u001B[39m\u001B[38;5;132;01m{\u001B[39;00mdata\u001B[38;5;132;01m}\u001B[39;00m\u001B[38;5;124m'\u001B[39m\u001B[38;5;124m is not present in list.\u001B[39m\u001B[38;5;124m\"\u001B[39m)\n\u001B[1;32m    110\u001B[0m temp\u001B[38;5;241m.\u001B[39mnext \u001B[38;5;241m=\u001B[39m iterator\u001B[38;5;241m.\u001B[39mnext\n\u001B[1;32m    111\u001B[0m \u001B[38;5;28;01mif\u001B[39;00m iterator\u001B[38;5;241m.\u001B[39mnext \u001B[38;5;129;01mis\u001B[39;00m \u001B[38;5;129;01mnot\u001B[39;00m \u001B[38;5;28;01mNone\u001B[39;00m:\n",
      "\u001B[0;31mException\u001B[0m: Given value '3' is not present in list."
     ]
    }
   ],
   "execution_count": 17
  },
  {
   "metadata": {
    "ExecuteTime": {
     "end_time": "2024-04-13T22:31:31.752916Z",
     "start_time": "2024-04-13T22:31:31.750970Z"
    }
   },
   "cell_type": "code",
   "source": [
    "my_list.remove_by_value(2)\n",
    "my_list.print()"
   ],
   "id": "6fd9abfa239ad7e8",
   "outputs": [
    {
     "name": "stdout",
     "output_type": "stream",
     "text": [
      "Linked list is empty.\n"
     ]
    }
   ],
   "execution_count": 18
  },
  {
   "metadata": {},
   "cell_type": "code",
   "outputs": [],
   "execution_count": null,
   "source": "",
   "id": "23cb37c49d91ecbc"
  }
 ],
 "metadata": {
  "kernelspec": {
   "display_name": "Python 3",
   "language": "python",
   "name": "python3"
  },
  "language_info": {
   "codemirror_mode": {
    "name": "ipython",
    "version": 2
   },
   "file_extension": ".py",
   "mimetype": "text/x-python",
   "name": "python",
   "nbconvert_exporter": "python",
   "pygments_lexer": "ipython2",
   "version": "2.7.6"
  }
 },
 "nbformat": 4,
 "nbformat_minor": 5
}
